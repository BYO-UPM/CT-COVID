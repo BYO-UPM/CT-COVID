{
 "cells": [
  {
   "cell_type": "code",
   "execution_count": 2,
   "metadata": {},
   "outputs": [
    {
     "name": "stdout",
     "output_type": "stream",
     "text": [
      "processing rtmdet_tiny_8xb32-300e_coco...\n",
      "\u001b[2Kdownloading \u001b[90m━━━━━━━━━━━━━━━━━━━━━━━━━━━━━━━━━\u001b[0m \u001b[32m54.9/54.9 MiB\u001b[0m \u001b[31m1.2 MB/s\u001b[0m eta \u001b[36m0:00:00\u001b[0m00:01\u001b[0m00:02\u001b[0m\n",
      "\u001b[?25h\u001b[32mSuccessfully downloaded rtmdet_tiny_8xb32-300e_coco_20220902_112414-78e30dcc.pth to /media/my_ftp/TFTs/amoure/TFM_MUIT/tests/rtmdet_tiny_8xb32-300e_coco\u001b[0m\n",
      "\u001b[32mSuccessfully dumped rtmdet_tiny_8xb32-300e_coco.py to /media/my_ftp/TFTs/amoure/TFM_MUIT/tests/rtmdet_tiny_8xb32-300e_coco\u001b[0m\n"
     ]
    }
   ],
   "source": [
    "!mim download mmdet --config rtmdet_tiny_8xb32-300e_coco --dest /media/my_ftp/TFTs/amoure/TFM_MUIT/tests/rtmdet_tiny_8xb32-300e_coco/"
   ]
  },
  {
   "cell_type": "code",
   "execution_count": 5,
   "metadata": {},
   "outputs": [
    {
     "name": "stdout",
     "output_type": "stream",
     "text": [
      "Loads checkpoint by local backend from path: /media/my_ftp/TFTs/amoure/TFM_MUIT/tests/rtmdet_tiny_8xb32-300e_coco/rtmdet_tiny_8xb32-300e_coco_20220902_112414-78e30dcc.pth\n",
      "The model and loaded state dict do not match exactly\n",
      "\n",
      "unexpected key in source state_dict: data_preprocessor.mean, data_preprocessor.std\n",
      "\n"
     ]
    }
   ],
   "source": [
    "from mmdet.apis import init_detector, inference_detector\n",
    "\n",
    "config_file = '/media/my_ftp/TFTs/amoure/TFM_MUIT/tests/rtmdet_tiny_8xb32-300e_coco/rtmdet_tiny_8xb32-300e_coco.py'\n",
    "checkpoint_file = '/media/my_ftp/TFTs/amoure/TFM_MUIT/tests/rtmdet_tiny_8xb32-300e_coco/rtmdet_tiny_8xb32-300e_coco_20220902_112414-78e30dcc.pth'\n",
    "model = init_detector(config_file, checkpoint_file, device='cpu')  # or device='cuda:0'"
   ]
  },
  {
   "cell_type": "code",
   "execution_count": null,
   "metadata": {},
   "outputs": [],
   "source": []
  }
 ],
 "metadata": {
  "kernelspec": {
   "display_name": "tfm-muit-venv",
   "language": "python",
   "name": "python3"
  },
  "language_info": {
   "codemirror_mode": {
    "name": "ipython",
    "version": 3
   },
   "file_extension": ".py",
   "mimetype": "text/x-python",
   "name": "python",
   "nbconvert_exporter": "python",
   "pygments_lexer": "ipython3",
   "version": "3.11.3"
  },
  "orig_nbformat": 4
 },
 "nbformat": 4,
 "nbformat_minor": 2
}
