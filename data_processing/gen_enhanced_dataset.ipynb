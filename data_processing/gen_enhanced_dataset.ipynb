{
 "cells": [
  {
   "cell_type": "code",
   "execution_count": 1,
   "metadata": {},
   "outputs": [
    {
     "data": {
      "text/plain": [
       "['../config.ini']"
      ]
     },
     "execution_count": 1,
     "metadata": {},
     "output_type": "execute_result"
    }
   ],
   "source": [
    "import sys ,os, importlib\n",
    "p = os.path.abspath('../')\n",
    "if p not in sys.path:\n",
    "    sys.path.append(p)\n",
    "\n",
    "import configparser\n",
    "import pandas as pd\n",
    "import numpy as np\n",
    "import matplotlib.pyplot as plt\n",
    "import cv2\n",
    "from importlib import reload\n",
    "from tqdm import tqdm\n",
    "tqdm.pandas()\n",
    "\n",
    "import bbox_utils as BboxUtils\n",
    "import utils as Utils\n",
    "\n",
    "reload(BboxUtils)\n",
    "reload(Utils)\n",
    "config = configparser.ConfigParser()\n",
    "config.read(\"../config.ini\")"
   ]
  },
  {
   "cell_type": "code",
   "execution_count": 3,
   "metadata": {},
   "outputs": [
    {
     "name": "stdout",
     "output_type": "stream",
     "text": [
      "/media/my_ftp/BasesDeDatos_Torax_RX_CT/COVID19_CT/processed\n",
      "/media/my_ftp/BasesDeDatos_Torax_RX_CT/COVID19_CT/processed/segmentation/metadata.csv\n"
     ]
    }
   ],
   "source": [
    "PROCESSED_DATA_PATH = config[\"PATHS\"][\"PROCESSED_DATA_PATH\"]\n",
    "SEGMENTATION_PROCESSED_PATH = os.path.join(PROCESSED_DATA_PATH, \"segmentation\")\n",
    "ENHANCED_SEGMENTATION_PATH = os.path.join(PROCESSED_DATA_PATH, \"segmentation\", \"enhanced\")\n",
    "METADATA_PATH = os.path.join(PROCESSED_DATA_PATH, \"segmentation\",\"metadata.csv\")\n",
    "print(PROCESSED_DATA_PATH)\n",
    "print(METADATA_PATH)"
   ]
  },
  {
   "cell_type": "code",
   "execution_count": 3,
   "metadata": {},
   "outputs": [
    {
     "name": "stdout",
     "output_type": "stream",
     "text": [
      "(87799, 11)\n",
      "[512]\n",
      "[512]\n"
     ]
    }
   ],
   "source": [
    "metadata_df = pd.read_csv(METADATA_PATH, sep=\";\", low_memory=False)\n",
    "print(metadata_df.shape)\n",
    "# display all diferent values of width and height of the dataframe\n",
    "print(metadata_df.width.unique())\n",
    "print(metadata_df.height.unique())\n"
   ]
  },
  {
   "cell_type": "code",
   "execution_count": 4,
   "metadata": {},
   "outputs": [
    {
     "name": "stdout",
     "output_type": "stream",
     "text": [
      "(21470, 11)\n"
     ]
    }
   ],
   "source": [
    "# Read all ct_image_paths in the metadata_df and apply the enhance function\n",
    "# Save the enhanced images in the ENHANCED_SEGMENTATION_PATH\n",
    "\n",
    "#filter to only enshance a retain dataset\n",
    "metadata_df = metadata_df[metadata_df[\"dataset\"] == \"CNCB\"]\n",
    "print(metadata_df.shape)"
   ]
  },
  {
   "cell_type": "code",
   "execution_count": 5,
   "metadata": {},
   "outputs": [
    {
     "name": "stderr",
     "output_type": "stream",
     "text": [
      "100%|██████████| 21470/21470 [44:42<00:00,  8.00it/s] \n"
     ]
    },
    {
     "data": {
      "text/plain": [
       "66329    None\n",
       "66330    None\n",
       "66331    None\n",
       "66332    None\n",
       "66333    None\n",
       "         ... \n",
       "87794    None\n",
       "87795    None\n",
       "87796    None\n",
       "87797    None\n",
       "87798    None\n",
       "Length: 21470, dtype: object"
      ]
     },
     "execution_count": 5,
     "metadata": {},
     "output_type": "execute_result"
    }
   ],
   "source": [
    "(\n",
    "    metadata_df\n",
    "    .progress_apply(\n",
    "        lambda row:\n",
    "          Utils.enhance_ct_udf(row, target_folder=ENHANCED_SEGMENTATION_PATH, equalize=True, clahe=True, target_size=(512,512)), axis=1\n",
    "            )\n",
    ")"
   ]
  },
  {
   "cell_type": "code",
   "execution_count": 4,
   "metadata": {},
   "outputs": [
    {
     "name": "stdout",
     "output_type": "stream",
     "text": [
      "nº of files in ENHANCED_SEGMENTATION_PATH:  87799\n"
     ]
    }
   ],
   "source": [
    "# print nº of files in ENHANCED_SEGMENTATION_PATH\n",
    "print(\"nº of files in ENHANCED_SEGMENTATION_PATH: \", len(os.listdir(ENHANCED_SEGMENTATION_PATH)))"
   ]
  },
  {
   "cell_type": "code",
   "execution_count": null,
   "metadata": {},
   "outputs": [],
   "source": []
  }
 ],
 "metadata": {
  "kernelspec": {
   "display_name": "tfm-muit-venv",
   "language": "python",
   "name": "python3"
  },
  "language_info": {
   "codemirror_mode": {
    "name": "ipython",
    "version": 3
   },
   "file_extension": ".py",
   "mimetype": "text/x-python",
   "name": "python",
   "nbconvert_exporter": "python",
   "pygments_lexer": "ipython3",
   "version": "3.10.12"
  }
 },
 "nbformat": 4,
 "nbformat_minor": 2
}
