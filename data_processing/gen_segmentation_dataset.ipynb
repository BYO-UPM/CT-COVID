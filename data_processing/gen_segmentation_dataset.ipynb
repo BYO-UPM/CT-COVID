{
 "cells": [
  {
   "cell_type": "code",
   "execution_count": 2,
   "metadata": {},
   "outputs": [
    {
     "name": "stdout",
     "output_type": "stream",
     "text": [
      "/media/my_ftp/TFTs/amoure/TFM_MUIT/tfm-muit-venv/bin/python\n",
      "3.10.12 (main, Nov 20 2023, 15:14:05) [GCC 11.4.0]\n",
      "sys.version_info(major=3, minor=10, micro=12, releaselevel='final', serial=0)\n"
     ]
    }
   ],
   "source": [
    "import sys ,os, importlib\n",
    "p = os.path.abspath('../')\n",
    "if p not in sys.path:\n",
    "    sys.path.append(p)\n",
    "\n",
    "import cv2\n",
    "import matplotlib.pyplot as plt\n",
    "import numpy as np\n",
    "import pandas as pd\n",
    "import pydicom\n",
    "import configparser\n",
    "import argparse\n",
    "from pathlib import Path\n",
    "\n",
    "from tqdm.notebook import tqdm\n",
    "from skimage.draw import polygon\n",
    "import pydicom\n",
    "from dpipe.io import save\n",
    "from dicom_csv import (expand_volumetric, drop_duplicated_instances, \n",
    "                       drop_duplicated_slices, order_series, stack_images, \n",
    "                       get_slice_locations, get_pixel_spacing, get_tag, join_tree)\n",
    "\n",
    "import utils as Utils\n",
    "import data_processing.data_processing_functions as DP\n",
    "\n",
    "importlib.reload(Utils)\n",
    "importlib.reload(DP)\n",
    "\n",
    "config = configparser.ConfigParser()\n",
    "config.read(\"../config.ini\")\n",
    "\n",
    "pd.set_option('display.max_colwidth', None)\n",
    "\n",
    "print(sys.executable)\n",
    "print(sys.version)\n",
    "print(sys.version_info)"
   ]
  },
  {
   "cell_type": "code",
   "execution_count": 3,
   "metadata": {},
   "outputs": [
    {
     "name": "stdout",
     "output_type": "stream",
     "text": [
      "/media/my_ftp/BasesDeDatos_Torax_RX_CT/COVID19_CT/processed/segmentation\n",
      "/media/my_ftp/BasesDeDatos_Torax_RX_CT/COVID19_CT/processed/segmentation/full_res_images\n",
      "/media/my_ftp/BasesDeDatos_Torax_RX_CT/COVID19_CT/processed/segmentation/rgb_images\n",
      "/media/my_ftp/BasesDeDatos_Torax_RX_CT/COVID19_CT/processed/segmentation/masks\n",
      "/media/my_ftp/BasesDeDatos_Torax_RX_CT/COVID19_CT/processed/segmentation/infection\n",
      "/media/my_ftp/BasesDeDatos_Torax_RX_CT/COVID19_CT/processed/segmentation/metadata.csv\n"
     ]
    }
   ],
   "source": [
    "TARGET_SIZE = (512, 512)\n",
    "\n",
    "PROCESSED_DATA_PATH = config[\"PATHS\"][\"PROCESSED_DATA_PATH\"]\n",
    "SEGMENTATION_PROCESSED_DATA_PATH = os.path.join(PROCESSED_DATA_PATH, \"segmentation\")\n",
    "METADATA_PATH = os.path.join(SEGMENTATION_PROCESSED_DATA_PATH, \"metadata.csv\")\n",
    "PROCESSED_RGB_IMAGES_PATH = os.path.join(SEGMENTATION_PROCESSED_DATA_PATH, \"rgb_images\")\n",
    "PROCESSED_IMAGES_FULL_RES_PATH = os.path.join(SEGMENTATION_PROCESSED_DATA_PATH, \"full_res_images\")\n",
    "PROCESSED_LUNG_MASKS_PATH = os.path.join(SEGMENTATION_PROCESSED_DATA_PATH, \"masks\")\n",
    "PROCESSED_INFECTION_PATH = os.path.join(SEGMENTATION_PROCESSED_DATA_PATH, \"infection\")\n",
    "POOL_RESULTS_PATH = os.path.join(SEGMENTATION_PROCESSED_DATA_PATH, \"pool_results\")\n",
    "\n",
    "os.makedirs(PROCESSED_DATA_PATH, exist_ok=True)\n",
    "os.makedirs(SEGMENTATION_PROCESSED_DATA_PATH, exist_ok=True)\n",
    "os.makedirs(PROCESSED_RGB_IMAGES_PATH, exist_ok=True)\n",
    "os.makedirs(POOL_RESULTS_PATH, exist_ok=True)\n",
    "#os.makedirs(PROCESSED_IMAGES_FULL_RES_PATH, exist_ok=True)\n",
    "os.makedirs(PROCESSED_LUNG_MASKS_PATH, exist_ok=True)\n",
    "os.makedirs(PROCESSED_INFECTION_PATH, exist_ok=True)\n",
    "\n",
    "print(SEGMENTATION_PROCESSED_DATA_PATH)\n",
    "print(PROCESSED_IMAGES_FULL_RES_PATH)\n",
    "print(PROCESSED_RGB_IMAGES_PATH)\n",
    "print(PROCESSED_LUNG_MASKS_PATH)\n",
    "print(PROCESSED_INFECTION_PATH)\n",
    "print(METADATA_PATH)"
   ]
  },
  {
   "cell_type": "markdown",
   "metadata": {},
   "source": [
    "# RGB Images"
   ]
  },
  {
   "cell_type": "markdown",
   "metadata": {},
   "source": [
    "## COVID_SEG_1\n",
    "http://medicalsegmentation.com/covid19/\n",
    "\n",
    "**COVID_SEG_1 has right and left lung masks, so we need to convert that to a single full lung mask**"
   ]
  },
  {
   "cell_type": "code",
   "execution_count": 3,
   "metadata": {},
   "outputs": [],
   "source": [
    "COVID_SEG_1_PATH = config['PATHS']['COVID_SEG_1_PATH']\n",
    "COVID_SEG_1_TRAINIG_IMAGES_PATH = os.path.join(COVID_SEG_1_PATH, \"tr_im.nii\")\n",
    "COVID_SEG_1_TRAINING_INFECTION_MASKS_PATH = os.path.join(COVID_SEG_1_PATH, \"tr_mask.nii\")\n",
    "COVID_SEG_1_TRAINING_LUNG_MASKS_PATH = os.path.join(COVID_SEG_1_PATH, \"tr_lungmasks_updated.nii\")\n",
    "COVID_SEG_1_METADATA_PATH = os.path.join(COVID_SEG_1_PATH, \"Test-Images-Clinical-Details.csv\")"
   ]
  },
  {
   "cell_type": "code",
   "execution_count": 4,
   "metadata": {},
   "outputs": [
    {
     "name": "stdout",
     "output_type": "stream",
     "text": [
      "(512, 512, 100)\n",
      "(512, 512, 100)\n",
      "(512, 512, 100)\n"
     ]
    }
   ],
   "source": [
    "training_images_nii = Utils.read_nii(COVID_SEG_1_TRAINIG_IMAGES_PATH)\n",
    "training_infection_masks_nii = Utils.read_nii(COVID_SEG_1_TRAINING_INFECTION_MASKS_PATH)\n",
    "training_lung_masks_nii = Utils.read_nii(COVID_SEG_1_TRAINING_LUNG_MASKS_PATH)\n",
    "print(training_images_nii.shape)\n",
    "print(training_lung_masks_nii.shape)\n",
    "print(training_infection_masks_nii.shape)"
   ]
  },
  {
   "cell_type": "code",
   "execution_count": 5,
   "metadata": {},
   "outputs": [
    {
     "data": {
      "application/vnd.jupyter.widget-view+json": {
       "model_id": "3c5ceec1d0954d7a8a07a0059689b6ba",
       "version_major": 2,
       "version_minor": 0
      },
      "text/plain": [
       "  0%|          | 0/100 [00:00<?, ?it/s]"
      ]
     },
     "metadata": {},
     "output_type": "display_data"
    }
   ],
   "source": [
    "metadata_list = []\n",
    "\n",
    "for scan_index, slice_index in tqdm(enumerate(range(training_images_nii.shape[2])), total = len(range(training_images_nii.shape[2]))):\n",
    "    ct = training_images_nii[:,:,slice_index]\n",
    "    infection_mask = training_infection_masks_nii[:,:,slice_index]\n",
    "    lung_mask = training_lung_masks_nii[:,:,slice_index]\n",
    "\n",
    "    processed_ct_image = Utils.to_rgb(ct, norm=True, range_255=True, clip=True)\n",
    "    processed_infection_mask = Utils.to_uint8(DP.generate_covid_seg_1_infection_mask(infection_mask))\n",
    "    processed_lung_mask = Utils.to_uint8(DP.generate_covid_seg_1_lung_mask(lung_mask, rgb=True))\n",
    "\n",
    "    has_infection = Utils.has_true_label(processed_infection_mask)\n",
    "    has_lung_mask = Utils.has_true_label(processed_lung_mask)\n",
    "    if has_infection:\n",
    "        infection_str = \"w_infection\"\n",
    "    else:\n",
    "        infection_str = \"no_infection\"\n",
    "\n",
    "    ct_slice_path = os.path.join(PROCESSED_RGB_IMAGES_PATH, f\"covid_seg_1_{scan_index}_{slice_index}_covid_{infection_str}.png\")\n",
    "    infection_mask_path = os.path.join(PROCESSED_INFECTION_PATH, f\"covid_seg_1_{scan_index}_{slice_index}_covid_{infection_str}.png\")\n",
    "    lung_mask_path = os.path.join(PROCESSED_LUNG_MASKS_PATH, f\"covid_seg_1_{scan_index}_{slice_index}_covid_{infection_str}.png\")\n",
    "\n",
    "    ct_width = processed_ct_image.shape[0]\n",
    "    ct_height = processed_ct_image.shape[1]\n",
    "\n",
    "    if ct_width != TARGET_SIZE[0] or ct_height != TARGET_SIZE[1]:\n",
    "        processed_ct_image = cv2.resize(processed_ct_image, TARGET_SIZE, interpolation=cv2.INTER_AREA)\n",
    "        processed_infection_mask = cv2.resize(processed_infection_mask, TARGET_SIZE, interpolation=cv2.INTER_AREA)\n",
    "        processed_lung_mask = cv2.resize(processed_lung_mask, TARGET_SIZE, interpolation=cv2.INTER_AREA)\n",
    "\n",
    "    assert cv2.imwrite(ct_slice_path, processed_ct_image,[cv2.IMWRITE_PNG_COMPRESSION, 0])\n",
    "    assert cv2.imwrite(infection_mask_path, processed_infection_mask,[cv2.IMWRITE_PNG_COMPRESSION, 0])\n",
    "    assert cv2.imwrite(lung_mask_path, processed_lung_mask, [cv2.IMWRITE_PNG_COMPRESSION, 0])\n",
    "    \n",
    "    metadata_list.append(\n",
    "        (\"COVID_SEG_1\",\n",
    "        \"covid\",\n",
    "        scan_index,\n",
    "        slice_index,\n",
    "        ct_slice_path,\n",
    "        infection_mask_path,\n",
    "        lung_mask_path,\n",
    "        processed_ct_image.shape[0],\n",
    "        processed_ct_image.shape[1],\n",
    "        has_infection,\n",
    "        has_lung_mask\n",
    "        )\n",
    "    )\n",
    "\n",
    "metadata_df = pd.DataFrame(\n",
    "    metadata_list,\n",
    "      columns=[\"dataset\", \"label\", \"scan_index\", \"slice_index\", \"ct_slice_path\",\"infection_mask_path\", \"lung_mask_path\", \"height\", \"width\", \"has_infection\", \"has_lung_mask\"]\n",
    "    )\n",
    "metadata_df.to_csv(os.path.join(SEGMENTATION_PROCESSED_DATA_PATH, \"metadata.csv\"), mode='w', index=False, sep=\";\")"
   ]
  },
  {
   "cell_type": "markdown",
   "metadata": {},
   "source": [
    "## COVID_SEG_2\n",
    "http://medicalsegmentation.com/covid19/"
   ]
  },
  {
   "cell_type": "code",
   "execution_count": 5,
   "metadata": {},
   "outputs": [],
   "source": [
    "COVID_SEG_2_PATH = config['PATHS']['COVID_SEG_2_PATH']\n",
    "COVID_SEG_2_TRAINIG_IMAGES_PATH = os.path.join(COVID_SEG_2_PATH, \"rp_im\")\n",
    "COVID_SEG_2_TRAINING_INFECTION_MASKS_PATH = os.path.join(COVID_SEG_2_PATH, \"rp_msk\")\n",
    "COVID_SEG_2_TRAINING_LUNG_MASKS_PATH = os.path.join(COVID_SEG_2_PATH, \"rp_lung_msk\")"
   ]
  },
  {
   "cell_type": "code",
   "execution_count": 6,
   "metadata": {},
   "outputs": [
    {
     "data": {
      "application/vnd.jupyter.widget-view+json": {
       "model_id": "083c82e429fa48eeb68dde0dcbb70c02",
       "version_major": 2,
       "version_minor": 0
      },
      "text/plain": [
       "  0%|          | 0/9 [00:00<?, ?it/s]"
      ]
     },
     "metadata": {},
     "output_type": "display_data"
    }
   ],
   "source": [
    "covid_seg_2_metadata_df = DP.read_covid_seg_2_folder_structure(COVID_SEG_2_PATH)\n",
    "metadata_list = []\n",
    "\n",
    "for scan_index in tqdm(range(covid_seg_2_metadata_df.shape[0]), total = covid_seg_2_metadata_df.shape[0]):\n",
    "\n",
    "    ct_nii = Utils.read_nii(covid_seg_2_metadata_df[\"image\"][scan_index])\n",
    "    lung_masks_nii = Utils.read_nii(covid_seg_2_metadata_df[\"lung_mask\"][scan_index])\n",
    "    infection_masks_nii = Utils.read_nii(covid_seg_2_metadata_df[\"infection_mask\"][scan_index])\n",
    "    \n",
    "    for slice_index in range(ct_nii.shape[2]):\n",
    "        ct_slice = ct_nii[:,:,slice_index]\n",
    "        lung_mask = lung_masks_nii[:,:,slice_index]\n",
    "        infection_mask = infection_masks_nii[:,:,slice_index]\n",
    "\n",
    "        processed_ct_image = Utils.to_rgb(ct_slice, norm=True, range_255=True, clip=True)\n",
    "        processed_infection_mask = Utils.to_uint8(infection_mask)\n",
    "        processed_lung_mask = Utils.to_uint8(DP.generate_covid_seg_2_lung_mask(lung_mask, rgb=True))\n",
    "\n",
    "        has_infection = Utils.has_true_label(processed_infection_mask)\n",
    "        has_lung_mask = Utils.has_true_label(processed_lung_mask)\n",
    "        \n",
    "        if has_infection:\n",
    "            infection_str = \"w_infection\"\n",
    "        else:\n",
    "            infection_str = \"no_infection\"\n",
    "        \n",
    "        ct_width = processed_ct_image.shape[0]\n",
    "        ct_height = processed_ct_image.shape[1]\n",
    "\n",
    "        if ct_width != TARGET_SIZE[0] or ct_height != TARGET_SIZE[1]:\n",
    "            processed_ct_image = cv2.resize(processed_ct_image, TARGET_SIZE, interpolation=cv2.INTER_AREA)\n",
    "            processed_infection_mask = cv2.resize(processed_infection_mask, TARGET_SIZE, interpolation=cv2.INTER_AREA)\n",
    "            processed_lung_mask = cv2.resize(processed_lung_mask, TARGET_SIZE, interpolation=cv2.INTER_AREA)\n",
    "        \n",
    "        ct_slice_path = os.path.join(PROCESSED_RGB_IMAGES_PATH, f\"covid_seg_2_{scan_index}_{slice_index}_covid_{infection_str}.png\")\n",
    "        lung_mask_path = os.path.join(PROCESSED_LUNG_MASKS_PATH, f\"covid_seg_2_{scan_index}_{slice_index}_covid_{infection_str}.png\")\n",
    "        infection_mask_path = os.path.join(PROCESSED_INFECTION_PATH, f\"covid_seg_2_{scan_index}_{slice_index}_covid_{infection_str}.png\")\n",
    "        \n",
    "        assert cv2.imwrite(ct_slice_path, processed_ct_image, [cv2.IMWRITE_PNG_COMPRESSION, 0])\n",
    "        assert cv2.imwrite(infection_mask_path, processed_infection_mask, [cv2.IMWRITE_PNG_COMPRESSION, 0])\n",
    "        assert cv2.imwrite(lung_mask_path, processed_lung_mask, [cv2.IMWRITE_PNG_COMPRESSION, 0])\n",
    "\n",
    "        metadata_list.append(\n",
    "            (\"COVID_SEG_2\",\n",
    "            \"covid\",\n",
    "            scan_index,\n",
    "            slice_index,\n",
    "            ct_slice_path,\n",
    "            infection_mask_path,\n",
    "            lung_mask_path,\n",
    "            processed_ct_image.shape[0],\n",
    "            processed_ct_image.shape[1],\n",
    "            has_infection,\n",
    "            has_lung_mask\n",
    "            )\n",
    "        )\n",
    "        \n",
    "# metadata_df = pd.DataFrame(\n",
    "#     metadata_list,\n",
    "#       columns=[\"dataset\", \"label\", \"scan_index\", \"slice_index\", \"ct_slice_path\",\"infection_mask_path\", \"lung_mask_path\", \"height\", \"width\", \"has_infection\", \"has_lung_mask\"]\n",
    "#     )\n",
    "# metadata_df.to_csv(os.path.join(SEGMENTATION_PROCESSED_DATA_PATH, \"metadata.csv\"), mode='a', index=False, sep=\";\", header=False)"
   ]
  },
  {
   "cell_type": "markdown",
   "metadata": {},
   "source": [
    "## COVID_CT_JUNMA\n",
    "https://zenodo.org/record/3757476#.ZClbFy8RphF"
   ]
  },
  {
   "cell_type": "code",
   "execution_count": 7,
   "metadata": {},
   "outputs": [
    {
     "data": {
      "text/plain": [
       "(19, 4)"
      ]
     },
     "execution_count": 7,
     "metadata": {},
     "output_type": "execute_result"
    }
   ],
   "source": [
    "COVID_CT_JunMa_PATH = config['PATHS']['COVID_CT_JunMa_PATH']\n",
    "covid_ct_junma_metadata_df = DP.read_covid_ct_junma_folder_structure(COVID_CT_JunMa_PATH)\n",
    "covid_ct_junma_metadata_df.shape"
   ]
  },
  {
   "cell_type": "code",
   "execution_count": 7,
   "metadata": {},
   "outputs": [
    {
     "data": {
      "application/vnd.jupyter.widget-view+json": {
       "model_id": "a264083634784b94acf9e891fbe6a841",
       "version_major": 2,
       "version_minor": 0
      },
      "text/plain": [
       "  0%|          | 0/19 [00:00<?, ?it/s]"
      ]
     },
     "metadata": {},
     "output_type": "display_data"
    }
   ],
   "source": [
    "metadata_list = []\n",
    "for scan_index in tqdm(range(covid_ct_junma_metadata_df.shape[0]), total = covid_ct_junma_metadata_df.shape[0]):\n",
    "    ct_nii = Utils.read_nii(covid_ct_junma_metadata_df[\"image\"][scan_index])\n",
    "    lung_masks_nii = Utils.read_nii(covid_ct_junma_metadata_df[\"lung_mask\"][scan_index])\n",
    "    infection_masks_nii = Utils.read_nii(covid_ct_junma_metadata_df[\"infection_mask\"][scan_index])\n",
    "    \n",
    "    for slice_index in range(ct_nii.shape[2]):\n",
    "        ct_slice = ct_nii[:,:,slice_index]\n",
    "        lung_mask = lung_masks_nii[:,:,slice_index]\n",
    "        infection_mask = infection_masks_nii[:,:,slice_index]\n",
    "\n",
    "        processed_ct_image = Utils.to_rgb(ct_slice, norm=True, range_255=True, clip=True)\n",
    "        processed_infection_mask = Utils.to_uint8(infection_mask) # Only o or 1 values\n",
    "        processed_lung_mask = Utils.to_uint8(DP.generate_covid_ct_junma_lung_mask(lung_mask, rgb=True))\n",
    "\n",
    "        has_infection = Utils.has_true_label(processed_infection_mask)\n",
    "        has_lung_mask = Utils.has_true_label(processed_lung_mask)\n",
    "        \n",
    "        if has_infection:\n",
    "            infection_str = \"w_infection\"\n",
    "        else:\n",
    "            infection_str = \"no_infection\"\n",
    "        \n",
    "        ct_width = processed_ct_image.shape[0]\n",
    "        ct_height = processed_ct_image.shape[1]\n",
    "\n",
    "        if ct_width != TARGET_SIZE[0] or ct_height != TARGET_SIZE[1]:\n",
    "            processed_ct_image = cv2.resize(processed_ct_image, TARGET_SIZE, interpolation=cv2.INTER_AREA)\n",
    "            processed_infection_mask = cv2.resize(processed_infection_mask, TARGET_SIZE, interpolation=cv2.INTER_AREA)\n",
    "            processed_lung_mask = cv2.resize(processed_lung_mask, TARGET_SIZE, interpolation=cv2.INTER_AREA)\n",
    "\n",
    "        ct_slice_path = os.path.join(PROCESSED_RGB_IMAGES_PATH, f\"covid_ct_junma_{scan_index}_{slice_index}_covid_{infection_str}.png\")\n",
    "        lung_mask_path = os.path.join(PROCESSED_LUNG_MASKS_PATH,  f\"covid_ct_junma_{scan_index}_{slice_index}_covid_{infection_str}.png\")\n",
    "        infection_mask_path = os.path.join(PROCESSED_INFECTION_PATH, f\"covid_ct_junma_{scan_index}_{slice_index}_covid_{infection_str}.png\")\n",
    "        \n",
    "        assert cv2.imwrite(ct_slice_path, processed_ct_image, [cv2.IMWRITE_PNG_COMPRESSION, 0])\n",
    "        assert cv2.imwrite(infection_mask_path, processed_infection_mask, [cv2.IMWRITE_PNG_COMPRESSION, 0])\n",
    "        assert cv2.imwrite(lung_mask_path, processed_lung_mask, [cv2.IMWRITE_PNG_COMPRESSION, 0])\n",
    "        \n",
    "        metadata_list.append(\n",
    "        (\"COVID_CT_JunMa\",\n",
    "        \"covid\",\n",
    "        scan_index,\n",
    "        slice_index,\n",
    "        ct_slice_path,\n",
    "        infection_mask_path,\n",
    "        lung_mask_path,\n",
    "        processed_ct_image.shape[0],\n",
    "        processed_ct_image.shape[1],\n",
    "        has_infection,\n",
    "        has_lung_mask\n",
    "        )\n",
    "    )\n",
    "        \n",
    "# metadata_df = pd.DataFrame(\n",
    "#     metadata_list,\n",
    "#       columns=[\"dataset\", \"label\", \"scan_index\", \"slice_index\", \"ct_slice_path\",\"infection_mask_path\", \"lung_mask_path\", \"height\", \"width\", \"has_infection\", \"has_lung_mask\"]\n",
    "#     )\n",
    "# metadata_df.to_csv(os.path.join(SEGMENTATION_PROCESSED_DATA_PATH, \"metadata.csv\"), mode='a', index=False, sep=\";\", header=False)"
   ]
  },
  {
   "cell_type": "markdown",
   "metadata": {},
   "source": [
    "## MIDRC RICORD 1A"
   ]
  },
  {
   "cell_type": "code",
   "execution_count": 2,
   "metadata": {},
   "outputs": [
    {
     "ename": "NameError",
     "evalue": "name 'config' is not defined",
     "output_type": "error",
     "traceback": [
      "\u001b[0;31m---------------------------------------------------------------------------\u001b[0m",
      "\u001b[0;31mNameError\u001b[0m                                 Traceback (most recent call last)",
      "\u001b[1;32m/media/my_ftp/TFTs/amoure/TFM_MUIT/data_processing/gen_segmentation_dataset.ipynb Cell 14\u001b[0m line \u001b[0;36m1\n\u001b[0;32m----> <a href='vscode-notebook-cell://ssh-remote%2B138.4.34.185/media/my_ftp/TFTs/amoure/TFM_MUIT/data_processing/gen_segmentation_dataset.ipynb#X20sdnNjb2RlLXJlbW90ZQ%3D%3D?line=0'>1</a>\u001b[0m MIDRC_RICORD_1A_PATH \u001b[39m=\u001b[39m config[\u001b[39m\"\u001b[39m\u001b[39mPATHS\u001b[39m\u001b[39m\"\u001b[39m][\u001b[39m\"\u001b[39m\u001b[39mMIDRC_RICORD_1A_PATH\u001b[39m\u001b[39m\"\u001b[39m]\n\u001b[1;32m      <a href='vscode-notebook-cell://ssh-remote%2B138.4.34.185/media/my_ftp/TFTs/amoure/TFM_MUIT/data_processing/gen_segmentation_dataset.ipynb#X20sdnNjb2RlLXJlbW90ZQ%3D%3D?line=1'>2</a>\u001b[0m PROCESSED_MIDRC_RICORD_1A_PATH \u001b[39m=\u001b[39m PROCESSED_DATA_PATH \u001b[39m+\u001b[39m \u001b[39m\"\u001b[39m\u001b[39m/MIDRC_RICORD_1A_npy/\u001b[39m\u001b[39m\"\u001b[39m\n\u001b[1;32m      <a href='vscode-notebook-cell://ssh-remote%2B138.4.34.185/media/my_ftp/TFTs/amoure/TFM_MUIT/data_processing/gen_segmentation_dataset.ipynb#X20sdnNjb2RlLXJlbW90ZQ%3D%3D?line=2'>3</a>\u001b[0m PROCESSED_MIDRC_METADATA_PATH \u001b[39m=\u001b[39m PROCESSED_MIDRC_RICORD_1A_PATH \u001b[39m+\u001b[39m \u001b[39m\"\u001b[39m\u001b[39mexpanded_meta.csv\u001b[39m\u001b[39m\"\u001b[39m\n",
      "\u001b[0;31mNameError\u001b[0m: name 'config' is not defined"
     ]
    }
   ],
   "source": [
    "MIDRC_RICORD_1A_PATH = config[\"PATHS\"][\"MIDRC_RICORD_1A_PATH\"]\n",
    "PROCESSED_MIDRC_RICORD_1A_PATH = PROCESSED_DATA_PATH + \"/MIDRC_RICORD_1A_npy/\"\n",
    "PROCESSED_MIDRC_METADATA_PATH = PROCESSED_MIDRC_RICORD_1A_PATH + \"expanded_meta.csv\"\n",
    "# Comment if already crawled and generated .npy files\n",
    "#create_midrc_dataset(MIDRC_RICORD_1A_PATH, PROCESSED_MIDRC_RICORD_1A_PATH, PROCESSED_MIDRC_RICORD_1A_PATH + \"/joined.csv\")\n",
    "meta_df = pd.read_csv(PROCESSED_MIDRC_METADATA_PATH)\n",
    "print(meta_df.shape)"
   ]
  },
  {
   "cell_type": "code",
   "execution_count": 11,
   "metadata": {},
   "outputs": [
    {
     "data": {
      "application/vnd.jupyter.widget-view+json": {
       "model_id": "55bff18244fe42e19c018a92c3eaee4a",
       "version_major": 2,
       "version_minor": 0
      },
      "text/plain": [
       "  0%|          | 0/112 [00:00<?, ?it/s]"
      ]
     },
     "metadata": {},
     "output_type": "display_data"
    }
   ],
   "source": [
    "metadata_list = []\n",
    "for scan_index in tqdm(range(len(meta_df)), total=len(meta_df)):\n",
    "    ct_path = meta_df.iloc[scan_index]['CT']\n",
    "    mask_path = meta_df.iloc[scan_index]['mask']\n",
    "    ct = np.load(ct_path)\n",
    "    mask = np.load(mask_path)\n",
    "    for slice_index in range(ct.shape[2]):\n",
    "        ct_slice = ct[:, :, slice_index]\n",
    "        infection_mask_slice = mask[:,:,slice_index]\n",
    "\n",
    "        processed_ct_image = Utils.to_rgb(ct_slice, norm=True, range_255=True, clip=True)\n",
    "        processed_infection_mask = Utils.to_uint8(infection_mask_slice)\n",
    "\n",
    "        has_infection = Utils.has_true_label(processed_infection_mask)\n",
    "        has_lung_mask = False\n",
    "        lung_mask_path = \"\"\n",
    "        \n",
    "        if has_infection:\n",
    "            infection_str = \"w_infection\"\n",
    "        else:\n",
    "            infection_str = \"no_infection\"\n",
    "        \n",
    "        ct_width = processed_ct_image.shape[0]\n",
    "        ct_height = processed_ct_image.shape[1]\n",
    "\n",
    "        if ct_width != TARGET_SIZE[0] or ct_height != TARGET_SIZE[1]:\n",
    "            processed_ct_image = cv2.resize(processed_ct_image, TARGET_SIZE, interpolation=cv2.INTER_AREA)\n",
    "            processed_infection_mask = cv2.resize(processed_infection_mask, TARGET_SIZE, interpolation=cv2.INTER_AREA)\n",
    "\n",
    "        ct_slice_path = os.path.join(PROCESSED_RGB_IMAGES_PATH, f\"midrc_ricord_1a_{scan_index}_{slice_index}_covid_{infection_str}.png\")\n",
    "        infection_mask_path = os.path.join(PROCESSED_INFECTION_PATH, f\"midrc_ricord_1a_{scan_index}_{slice_index}_covid_{infection_str}.png\")\n",
    "\n",
    "        assert cv2.imwrite(ct_slice_path, processed_ct_image, [cv2.IMWRITE_PNG_COMPRESSION, 0])\n",
    "        assert cv2.imwrite(infection_mask_path, processed_infection_mask, [cv2.IMWRITE_PNG_COMPRESSION, 0])\n",
    "\n",
    "        metadata_list.append(\n",
    "        (\"MIDRC_RICORD_1A\",\n",
    "        \"covid\",\n",
    "        scan_index,\n",
    "        slice_index,\n",
    "        ct_slice_path,\n",
    "        infection_mask_path,\n",
    "        lung_mask_path,\n",
    "        processed_ct_image.shape[0],\n",
    "        processed_ct_image.shape[1],\n",
    "        has_infection,\n",
    "        has_lung_mask\n",
    "        )\n",
    "    )\n",
    "\n",
    "metadata_df = pd.DataFrame(\n",
    "    metadata_list,\n",
    "      columns=[\"dataset\", \"label\", \"scan_index\", \"slice_index\", \"ct_slice_path\",\"infection_mask_path\", \"lung_mask_path\", \"height\", \"width\", \"has_infection\", \"has_lung_mask\"]\n",
    "    )\n",
    "metadata_df.to_csv(os.path.join(SEGMENTATION_PROCESSED_DATA_PATH, \"metadata.csv\"), index=False, mode = \"a\", sep = \";\", header=False)"
   ]
  },
  {
   "cell_type": "markdown",
   "metadata": {},
   "source": [
    "## MOSMED"
   ]
  },
  {
   "cell_type": "code",
   "execution_count": 12,
   "metadata": {},
   "outputs": [
    {
     "name": "stdout",
     "output_type": "stream",
     "text": [
      "/media/my_ftp/BasesDeDatos_Torax_RX_CT/COVID19_CT/MOSMED\n",
      "(1110, 4)\n"
     ]
    }
   ],
   "source": [
    "MOSMED_PATH = config[\"PATHS\"][\"MOSMED_PATH\"]\n",
    "print(MOSMED_PATH)\n",
    "mosmed_df = DP.read_mosmed_folder_structure(MOSMED_PATH)\n",
    "print(mosmed_df.shape)"
   ]
  },
  {
   "cell_type": "code",
   "execution_count": 13,
   "metadata": {},
   "outputs": [
    {
     "data": {
      "application/vnd.jupyter.widget-view+json": {
       "model_id": "df23aa9fde9d4251a43a2b20327c64ae",
       "version_major": 2,
       "version_minor": 0
      },
      "text/plain": [
       "  0%|          | 0/1110 [00:00<?, ?it/s]"
      ]
     },
     "metadata": {},
     "output_type": "display_data"
    }
   ],
   "source": [
    "metadata_list = []\n",
    "for scan_index in tqdm(range(len(mosmed_df)), total=len(mosmed_df)):\n",
    "    ct_path = mosmed_df.iloc[scan_index]['study_file']\n",
    "    mask_path = mosmed_df.iloc[scan_index]['mask_file']\n",
    "    \n",
    "    ct_nii = Utils.read_nii(ct_path)\n",
    "\n",
    "    if(mask_path != \"\"):\n",
    "        infection_mask_nii = Utils.read_nii(mask_path)\n",
    "        has_mask = True\n",
    "    else:\n",
    "        infection_mask_nii = np.zeros(ct_nii.shape)\n",
    "        has_mask = False\n",
    "\n",
    "    for slice_index in range(ct_nii.shape[2]):\n",
    "        ct_slice = ct_nii[:,:,slice_index]\n",
    "        processed_ct_image = Utils.to_rgb(ct_slice, norm=True, range_255=True, clip=True)\n",
    "        processed_infection_mask = Utils.to_uint8(infection_mask_nii[:,:,slice_index])\n",
    "        has_lung_mask = False\n",
    "        lung_mask_path = \"\"\n",
    "        \n",
    "        if has_mask:\n",
    "            has_infection = Utils.has_true_label(processed_infection_mask)\n",
    "        else:\n",
    "            has_infection = False\n",
    "        if has_infection:\n",
    "            infection_str = \"w_infection\"\n",
    "        else:\n",
    "            infection_str = \"no_infection\"\n",
    "        \n",
    "        ct_width = processed_ct_image.shape[0]\n",
    "        ct_height = processed_ct_image.shape[1]\n",
    "\n",
    "        if ct_width != TARGET_SIZE[0] or ct_height != TARGET_SIZE[1]:\n",
    "            processed_ct_image = cv2.resize(processed_ct_image, TARGET_SIZE, interpolation=cv2.INTER_AREA)\n",
    "            processed_infection_mask = cv2.resize(processed_infection_mask, TARGET_SIZE, interpolation=cv2.INTER_AREA)\n",
    "\n",
    "        ct_slice_path = os.path.join(PROCESSED_RGB_IMAGES_PATH, f\"mosmed_{scan_index}_{slice_index}_covid_{infection_str}.png\")\n",
    "        infection_mask_path = os.path.join(PROCESSED_INFECTION_PATH, f\"mosmed_{scan_index}_{slice_index}_covid_{infection_str}.png\")\n",
    "\n",
    "        assert cv2.imwrite(ct_slice_path, processed_ct_image, [cv2.IMWRITE_PNG_COMPRESSION, 0])\n",
    "        assert cv2.imwrite(infection_mask_path, processed_infection_mask, [cv2.IMWRITE_PNG_COMPRESSION, 0])\n",
    "    \n",
    "        metadata_list.append(\n",
    "        (\"MOSMED\",\n",
    "        \"covid\",\n",
    "        scan_index,\n",
    "        slice_index,\n",
    "        ct_slice_path,\n",
    "        infection_mask_path,\n",
    "        lung_mask_path,\n",
    "        processed_ct_image.shape[0],\n",
    "        processed_ct_image.shape[1],\n",
    "        has_infection,\n",
    "        has_lung_mask\n",
    "        )\n",
    "    )\n",
    "\n",
    "metadata_df = pd.DataFrame(\n",
    "    metadata_list,\n",
    "      columns=[\"dataset\", \"label\", \"scan_index\", \"slice_index\", \"ct_slice_path\", \"infection_mask_path\", \"lung_mask_path\", \"height\", \"width\", \"has_infection\", \"has_lung_mask\"]\n",
    "    )\n",
    "metadata_df.to_csv(os.path.join(SEGMENTATION_PROCESSED_DATA_PATH, \"metadata.csv\"), index=False, mode = \"a\", sep = \";\", header=False)"
   ]
  },
  {
   "cell_type": "markdown",
   "metadata": {},
   "source": [
    "## CNCB\n",
    "\n",
    "We are asuming the 350 CTs that have been manually segmented by radiologists are not present in the rest of the CNCB subset \n",
    "-   TODO: Verify if this asumption maintains"
   ]
  },
  {
   "cell_type": "code",
   "execution_count": 8,
   "metadata": {},
   "outputs": [
    {
     "name": "stdout",
     "output_type": "stream",
     "text": [
      "(21470, 6)\n"
     ]
    },
    {
     "data": {
      "text/html": [
       "<div>\n",
       "<style scoped>\n",
       "    .dataframe tbody tr th:only-of-type {\n",
       "        vertical-align: middle;\n",
       "    }\n",
       "\n",
       "    .dataframe tbody tr th {\n",
       "        vertical-align: top;\n",
       "    }\n",
       "\n",
       "    .dataframe thead th {\n",
       "        text-align: right;\n",
       "    }\n",
       "</style>\n",
       "<table border=\"1\" class=\"dataframe\">\n",
       "  <thead>\n",
       "    <tr style=\"text-align: right;\">\n",
       "      <th></th>\n",
       "      <th>scan_index</th>\n",
       "      <th>slice_index</th>\n",
       "      <th>image_path</th>\n",
       "      <th>n_slices</th>\n",
       "      <th>mask_path</th>\n",
       "      <th>n_masks</th>\n",
       "    </tr>\n",
       "  </thead>\n",
       "  <tbody>\n",
       "    <tr>\n",
       "      <th>5427</th>\n",
       "      <td>0</td>\n",
       "      <td>0</td>\n",
       "      <td>/media/my_ftp/BasesDeDatos_Torax_RX_CT/COVID19_CT/CNCB_COVID_CT/ct_lesion_seg/image/0/0.jpg</td>\n",
       "      <td>138</td>\n",
       "      <td>NaN</td>\n",
       "      <td>NaN</td>\n",
       "    </tr>\n",
       "    <tr>\n",
       "      <th>5475</th>\n",
       "      <td>0</td>\n",
       "      <td>1</td>\n",
       "      <td>/media/my_ftp/BasesDeDatos_Torax_RX_CT/COVID19_CT/CNCB_COVID_CT/ct_lesion_seg/image/0/1.jpg</td>\n",
       "      <td>138</td>\n",
       "      <td>NaN</td>\n",
       "      <td>NaN</td>\n",
       "    </tr>\n",
       "    <tr>\n",
       "      <th>5483</th>\n",
       "      <td>0</td>\n",
       "      <td>2</td>\n",
       "      <td>/media/my_ftp/BasesDeDatos_Torax_RX_CT/COVID19_CT/CNCB_COVID_CT/ct_lesion_seg/image/0/2.jpg</td>\n",
       "      <td>138</td>\n",
       "      <td>NaN</td>\n",
       "      <td>NaN</td>\n",
       "    </tr>\n",
       "    <tr>\n",
       "      <th>5534</th>\n",
       "      <td>0</td>\n",
       "      <td>3</td>\n",
       "      <td>/media/my_ftp/BasesDeDatos_Torax_RX_CT/COVID19_CT/CNCB_COVID_CT/ct_lesion_seg/image/0/3.jpg</td>\n",
       "      <td>138</td>\n",
       "      <td>NaN</td>\n",
       "      <td>NaN</td>\n",
       "    </tr>\n",
       "    <tr>\n",
       "      <th>5490</th>\n",
       "      <td>0</td>\n",
       "      <td>4</td>\n",
       "      <td>/media/my_ftp/BasesDeDatos_Torax_RX_CT/COVID19_CT/CNCB_COVID_CT/ct_lesion_seg/image/0/4.jpg</td>\n",
       "      <td>138</td>\n",
       "      <td>NaN</td>\n",
       "      <td>NaN</td>\n",
       "    </tr>\n",
       "  </tbody>\n",
       "</table>\n",
       "</div>"
      ],
      "text/plain": [
       "      scan_index  slice_index  \\\n",
       "5427           0            0   \n",
       "5475           0            1   \n",
       "5483           0            2   \n",
       "5534           0            3   \n",
       "5490           0            4   \n",
       "\n",
       "                                                                                       image_path  \\\n",
       "5427  /media/my_ftp/BasesDeDatos_Torax_RX_CT/COVID19_CT/CNCB_COVID_CT/ct_lesion_seg/image/0/0.jpg   \n",
       "5475  /media/my_ftp/BasesDeDatos_Torax_RX_CT/COVID19_CT/CNCB_COVID_CT/ct_lesion_seg/image/0/1.jpg   \n",
       "5483  /media/my_ftp/BasesDeDatos_Torax_RX_CT/COVID19_CT/CNCB_COVID_CT/ct_lesion_seg/image/0/2.jpg   \n",
       "5534  /media/my_ftp/BasesDeDatos_Torax_RX_CT/COVID19_CT/CNCB_COVID_CT/ct_lesion_seg/image/0/3.jpg   \n",
       "5490  /media/my_ftp/BasesDeDatos_Torax_RX_CT/COVID19_CT/CNCB_COVID_CT/ct_lesion_seg/image/0/4.jpg   \n",
       "\n",
       "      n_slices mask_path  n_masks  \n",
       "5427       138       NaN      NaN  \n",
       "5475       138       NaN      NaN  \n",
       "5483       138       NaN      NaN  \n",
       "5534       138       NaN      NaN  \n",
       "5490       138       NaN      NaN  "
      ]
     },
     "execution_count": 8,
     "metadata": {},
     "output_type": "execute_result"
    }
   ],
   "source": [
    "cncb_segmentation_df = DP.read_cnbc_folder_structure(os.path.join(config[\"PATHS\"][\"CNCB_COVID_CT_PATH\"], \"ct_lesion_seg\"))\n",
    "cncb_segmentation_df = cncb_segmentation_df.sort_values([\"scan_index\", \"slice_index\"], ascending=[True, True])\n",
    "print(cncb_segmentation_df.shape)\n",
    "cncb_segmentation_df.head()"
   ]
  },
  {
   "cell_type": "code",
   "execution_count": 13,
   "metadata": {},
   "outputs": [
    {
     "data": {
      "application/vnd.jupyter.widget-view+json": {
       "model_id": "9034d6732fd34abb8600757e2720f60f",
       "version_major": 2,
       "version_minor": 0
      },
      "text/plain": [
       "  0%|          | 0/150 [00:00<?, ?it/s]"
      ]
     },
     "metadata": {},
     "output_type": "display_data"
    }
   ],
   "source": [
    "metadata_list = []\n",
    "for scan_index in tqdm(cncb_segmentation_df[\"scan_index\"].unique(), total=len(cncb_segmentation_df[\"scan_index\"].unique())):\n",
    "    slices_df = cncb_segmentation_df[cncb_segmentation_df[\"scan_index\"] == scan_index]\n",
    "    for _ , slice_row in slices_df.iterrows():\n",
    "        processed_ct_image = cv2.imread(slice_row[\"image_path\"], cv2.IMREAD_UNCHANGED)\n",
    "        slice_index = slice_row[\"slice_index\"]\n",
    "        infection_mask_path = slice_row[\"mask_path\"]\n",
    "\n",
    "        if type(infection_mask_path) != float:      \n",
    "            infection_mask = cv2.imread(infection_mask_path, cv2.IMREAD_UNCHANGED)   \n",
    "            processed_infection_mask = DP.generate_cnbc_infection_mask(infection_mask)\n",
    "            has_infection = Utils.has_true_label(processed_infection_mask) # added this to filter only slices that really contain an infection after filtering out 1 - lung field masks\n",
    "        else:\n",
    "            has_infection = False\n",
    "        has_lung_mask = False\n",
    "        lung_mask_path = \"\"\n",
    "        if has_infection:\n",
    "            infection_str = \"w_infection\"\n",
    "        else:\n",
    "            infection_str = \"no_infection\"\n",
    "        \n",
    "        ct_width = processed_ct_image.shape[0]\n",
    "        ct_height = processed_ct_image.shape[1]\n",
    "\n",
    "        if ct_width != TARGET_SIZE[0] or ct_height != TARGET_SIZE[1]:\n",
    "            processed_ct_image = cv2.resize(processed_ct_image, TARGET_SIZE, interpolation=cv2.INTER_AREA)\n",
    "            processed_infection_mask = cv2.resize(processed_infection_mask, TARGET_SIZE, interpolation=cv2.INTER_AREA)\n",
    "\n",
    "        ct_slice_path = os.path.join(PROCESSED_RGB_IMAGES_PATH, f\"cncb_{scan_index}_{slice_index}_covid_{infection_str}.png\")\n",
    "        assert cv2.imwrite(ct_slice_path, processed_ct_image, [cv2.IMWRITE_PNG_COMPRESSION, 0])\n",
    "\n",
    "        if has_infection:\n",
    "            # This is the only dataset that may not contain infection masks for some slices\n",
    "            infection_mask_path = os.path.join(PROCESSED_INFECTION_PATH, f\"cncb_{scan_index}_{slice_index}_covid_{infection_str}.png\")\n",
    "            assert cv2.imwrite(infection_mask_path, processed_infection_mask, [cv2.IMWRITE_PNG_COMPRESSION, 0])\n",
    "            \n",
    "        metadata_list.append(\n",
    "        (\"CNCB\",\n",
    "        \"covid\",\n",
    "        scan_index,\n",
    "        slice_index,\n",
    "        ct_slice_path,\n",
    "        infection_mask_path,\n",
    "        lung_mask_path,\n",
    "        processed_ct_image.shape[0],\n",
    "        processed_ct_image.shape[1],\n",
    "        has_infection,\n",
    "        has_lung_mask\n",
    "        )\n",
    ")\n",
    "        \n",
    "metadata_df = pd.DataFrame(\n",
    "    metadata_list,\n",
    "      columns=[\"dataset\", \"label\", \"scan_index\", \"slice_index\", \"ct_slice_path\", \"infection_mask_path\", \"lung_mask_path\", \"height\", \"width\", \"has_infection\", \"has_lung_mask\"])\n",
    "metadata_df.to_csv(os.path.join(SEGMENTATION_PROCESSED_DATA_PATH, \"metadata.csv\"), index=False, mode = \"a\", sep = \";\", header=False)"
   ]
  },
  {
   "cell_type": "markdown",
   "metadata": {},
   "source": [
    "# Metadata checks"
   ]
  },
  {
   "cell_type": "code",
   "execution_count": 4,
   "metadata": {},
   "outputs": [
    {
     "data": {
      "text/plain": [
       "dataset\n",
       "MOSMED             46411\n",
       "CNCB               21470\n",
       "MIDRC_RICORD_1A    15887\n",
       "COVID_CT_JunMa      3102\n",
       "COVID_SEG_2          829\n",
       "COVID_SEG_1          100\n",
       "Name: count, dtype: int64"
      ]
     },
     "execution_count": 4,
     "metadata": {},
     "output_type": "execute_result"
    }
   ],
   "source": [
    "metadata_to_test_df = pd.read_csv(os.path.join(SEGMENTATION_PROCESSED_DATA_PATH, \"metadata.csv\"), sep=\";\", low_memory=False)\n",
    "metadata_to_test_df[\"dataset\"].value_counts()"
   ]
  },
  {
   "cell_type": "code",
   "execution_count": null,
   "metadata": {},
   "outputs": [],
   "source": []
  }
 ],
 "metadata": {
  "kernelspec": {
   "display_name": "tfm-muit-venv",
   "language": "python",
   "name": "python3"
  },
  "language_info": {
   "codemirror_mode": {
    "name": "ipython",
    "version": 3
   },
   "file_extension": ".py",
   "mimetype": "text/x-python",
   "name": "python",
   "nbconvert_exporter": "python",
   "pygments_lexer": "ipython3",
   "version": "3.10.12"
  },
  "orig_nbformat": 4
 },
 "nbformat": 4,
 "nbformat_minor": 2
}
