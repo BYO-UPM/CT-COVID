{
 "cells": [
  {
   "cell_type": "code",
   "execution_count": 30,
   "metadata": {},
   "outputs": [],
   "source": [
    "import requests\n",
    "import base64\n",
    "import io\n",
    "import os\n",
    "import pandas as pd\n",
    "import cv2\n",
    "import configparser\n",
    "from tqdm import tqdm\n",
    "from roboflow import Roboflow\n",
    "config = configparser.ConfigParser()\n",
    "config.read(\"../config.ini\")\n",
    "\n",
    "rf = Roboflow(api_key=\"CeyqMPgn8RZNppm9JpjD\")"
   ]
  },
  {
   "cell_type": "code",
   "execution_count": 6,
   "metadata": {},
   "outputs": [
    {
     "name": "stdout",
     "output_type": "stream",
     "text": [
      "/media/my_ftp/BasesDeDatos_Torax_RX_CT/COVID19_CT/processed\n",
      "/media/my_ftp/BasesDeDatos_Torax_RX_CT/COVID19_CT/processed/segmentation/metadata.csv\n"
     ]
    }
   ],
   "source": [
    "PROCESSED_DATA_PATH = config[\"PATHS\"][\"PROCESSED_DATA_PATH\"]\n",
    "print(PROCESSED_DATA_PATH)\n",
    "print(METADATA_PATH)"
   ]
  },
  {
   "cell_type": "code",
   "execution_count": 56,
   "metadata": {},
   "outputs": [
    {
     "name": "stdout",
     "output_type": "stream",
     "text": [
      "(87799, 50)\n",
      "split\n",
      "test     17560\n",
      "train    70239\n",
      "dtype: int64\n"
     ]
    }
   ],
   "source": [
    "experiment_folder = os.path.join(PROCESSED_DATA_PATH,\"object_detection\", \"experiment\")\n",
    "processed_metadata_df = pd.read_pickle(os.path.join(PROCESSED_DATA_PATH, \"object_detection\", \"metadata_with_bboxes.pkl\"))\n",
    "\n",
    "print(processed_metadata_df.shape)\n",
    "print(processed_metadata_df.groupby([\"split\"]).size())"
   ]
  },
  {
   "cell_type": "code",
   "execution_count": 71,
   "metadata": {},
   "outputs": [],
   "source": [
    "def roboflow_uploader(img_paths, split=None, batch=None):\n",
    "    print(rf.workspace())    # Specify the project for upload\n",
    "    project = rf.workspace(\"covid19-detection\").project(\"tfm-muit\")\n",
    "    print(\"Uploading....\")\n",
    "    for img in tqdm(img_paths):\n",
    "        project.upload(img)\n",
    "\n",
    "def upload_images_to_roboflow(img_paths, split=None, batch=None):\n",
    "    # Copy the images to an intermediate folder and subsitute the file name by a number to anonymize the data, then delete that folder\n",
    "    intermediate_folder = os.path.join(experiment_folder, \"intermediate\")\n",
    "    print(intermediate_folder)\n",
    "    os.makedirs(intermediate_folder, exist_ok=True)\n",
    "    images_to_upload = []\n",
    "    print(\"Copying images to intermediate folder\")\n",
    "    for i, img_path in enumerate(tqdm(img_paths)):\n",
    "        #img = cv2.imread(img_path)\n",
    "        dest_path = os.path.join(intermediate_folder, f\"{i}.png\")\n",
    "        #cv2.imwrite(dest_path, img)\n",
    "        images_to_upload.append(dest_path)\n",
    "    roboflow_uploader(images_to_upload, split, batch)\n",
    "    os.rmdir(intermediate_folder)\n",
    "                        \n",
    "def images_to_upload_selector(df, num_imgs=100, random=True, enhanced=False):\n",
    "    filterded_df = processed_metadata_df[processed_metadata_df[\"split\"] == \"train\"]\n",
    "    filterded_df = filterded_df[filterded_df[\"has_infection\"] == True]\n",
    "    sample_df = filterded_df.sample(num_imgs)\n",
    "    if enhanced:\n",
    "        sample_df[\"ct_slice_path\"] = sample_df[\"ct_slice_path\"].apply(lambda x: x.replace(\"rgb_images\", \"enhanced\"))\n",
    "    img_paths = sample_df[\"ct_slice_path\"].tolist()\n",
    "    return img_paths, sample_df"
   ]
  },
  {
   "cell_type": "code",
   "execution_count": 72,
   "metadata": {},
   "outputs": [],
   "source": [
    "images_to_upload, exp_df = images_to_upload_selector(processed_metadata_df, num_imgs=100, random=True, enhanced=False)"
   ]
  },
  {
   "cell_type": "code",
   "execution_count": 73,
   "metadata": {},
   "outputs": [
    {
     "name": "stdout",
     "output_type": "stream",
     "text": [
      "/media/my_ftp/BasesDeDatos_Torax_RX_CT/COVID19_CT/processed/object_detection/experiment/intermediate\n",
      "Copying images to intermediate folder\n"
     ]
    },
    {
     "name": "stderr",
     "output_type": "stream",
     "text": [
      "  0%|          | 0/100 [00:00<?, ?it/s]"
     ]
    },
    {
     "name": "stderr",
     "output_type": "stream",
     "text": [
      "100%|██████████| 100/100 [00:42<00:00,  2.37it/s]"
     ]
    },
    {
     "name": "stdout",
     "output_type": "stream",
     "text": [
      "loading Roboflow workspace...\n"
     ]
    },
    {
     "name": "stderr",
     "output_type": "stream",
     "text": [
      "\n"
     ]
    },
    {
     "name": "stdout",
     "output_type": "stream",
     "text": [
      "{\n",
      "  \"name\": \"Covid19 Detection\",\n",
      "  \"url\": \"covid19-detection\",\n",
      "  \"projects\": [\n",
      "    \"covid19-detection/hard-hat-sample-rjmj4\",\n",
      "    \"covid19-detection/tfm-muit\"\n",
      "  ]\n",
      "}\n",
      "loading Roboflow workspace...\n",
      "loading Roboflow project...\n",
      "Uploading....\n"
     ]
    },
    {
     "name": "stderr",
     "output_type": "stream",
     "text": [
      "100%|██████████| 100/100 [02:06<00:00,  1.27s/it]\n"
     ]
    },
    {
     "ename": "OSError",
     "evalue": "[Errno 39] Directory not empty: '/media/my_ftp/BasesDeDatos_Torax_RX_CT/COVID19_CT/processed/object_detection/experiment/intermediate'",
     "output_type": "error",
     "traceback": [
      "\u001b[0;31m---------------------------------------------------------------------------\u001b[0m",
      "\u001b[0;31mOSError\u001b[0m                                   Traceback (most recent call last)",
      "Cell \u001b[0;32mIn[73], line 1\u001b[0m\n\u001b[0;32m----> 1\u001b[0m \u001b[43mupload_images_to_roboflow\u001b[49m\u001b[43m(\u001b[49m\u001b[43mimages_to_upload\u001b[49m\u001b[43m,\u001b[49m\u001b[43m \u001b[49m\u001b[43mbatch\u001b[49m\u001b[38;5;241;43m=\u001b[39;49m\u001b[38;5;241;43m2\u001b[39;49m\u001b[43m)\u001b[49m\n\u001b[1;32m      2\u001b[0m exp_df\u001b[38;5;241m.\u001b[39mto_pickle(os\u001b[38;5;241m.\u001b[39mpath\u001b[38;5;241m.\u001b[39mjoin(experiment_folder, \u001b[38;5;124m\"\u001b[39m\u001b[38;5;124mroboflow_upload_1.pkl\u001b[39m\u001b[38;5;124m\"\u001b[39m))\n",
      "Cell \u001b[0;32mIn[71], line 21\u001b[0m, in \u001b[0;36mupload_images_to_roboflow\u001b[0;34m(img_paths, split, batch)\u001b[0m\n\u001b[1;32m     19\u001b[0m     images_to_upload\u001b[38;5;241m.\u001b[39mappend(dest_path)\n\u001b[1;32m     20\u001b[0m roboflow_uploader(images_to_upload, split, batch)\n\u001b[0;32m---> 21\u001b[0m os\u001b[38;5;241m.\u001b[39mrmdir(intermediate_folder)\n",
      "\u001b[0;31mOSError\u001b[0m: [Errno 39] Directory not empty: '/media/my_ftp/BasesDeDatos_Torax_RX_CT/COVID19_CT/processed/object_detection/experiment/intermediate'"
     ]
    }
   ],
   "source": [
    "upload_images_to_roboflow(images_to_upload, batch=2)\n",
    "exp_df.to_pickle(os.path.join(experiment_folder, \"roboflow_upload_1.pkl\"))"
   ]
  },
  {
   "cell_type": "code",
   "execution_count": null,
   "metadata": {},
   "outputs": [],
   "source": [
    "# visualize 10 uploaded images along with the annotations (annotations are in the exp_df dataframe and the column name should be parameterized)\n",
    "import matplotlib.pyplot as plt\n",
    "import matplotlib.patches as patches\n",
    "import numpy as np\n",
    "\n",
    "def visualize_annotations(img_path, df, column_name=\"bboxes\"):\n",
    "    img = cv2.imread(img_path)\n",
    "    fig, ax = plt.subplots(1)\n",
    "    ax.imshow(img)\n",
    "    for _, row in df.iterrows():\n",
    "        xmin, ymin, xmax, ymax = row[column_name]\n",
    "        rect = patches.Rectangle((xmin, ymin), xmax-xmin, ymax-ymin, linewidth=1, edgecolor='r', facecolor='none')\n",
    "        ax.add_patch(rect)\n",
    "    plt.show()\n",
    "\n",
    "sample_exp_df = exp_df.sample(20)\n",
    "\n",
    "fig, axs = plt.subplots(4, 5, figsize=(15, 12))\n",
    "axs = axs.flatten()\n",
    "\n",
    "for i, (_, row) in enumerate(sample_exp_df.iterrows()):\n",
    "    img_path = row[\"ct_slice_path\"]\n",
    "    visualize_annotations(img_path, sample_exp_df, column_name=\"bboxes\")\n",
    "    axs[i].imshow(cv2.imread(img_path))\n",
    "    axs[i].axis('off')\n",
    "\n",
    "plt.tight_layout()\n",
    "plt.show()\n"
   ]
  }
 ],
 "metadata": {
  "kernelspec": {
   "display_name": "tfm-muit-venv",
   "language": "python",
   "name": "python3"
  },
  "language_info": {
   "codemirror_mode": {
    "name": "ipython",
    "version": 3
   },
   "file_extension": ".py",
   "mimetype": "text/x-python",
   "name": "python",
   "nbconvert_exporter": "python",
   "pygments_lexer": "ipython3",
   "version": "3.11.3"
  }
 },
 "nbformat": 4,
 "nbformat_minor": 2
}
