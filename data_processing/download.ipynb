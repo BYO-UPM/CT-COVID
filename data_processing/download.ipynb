{
 "cells": [
  {
   "cell_type": "code",
   "execution_count": 1,
   "metadata": {},
   "outputs": [],
   "source": [
    "import gdown"
   ]
  },
  {
   "cell_type": "code",
   "execution_count": 6,
   "metadata": {},
   "outputs": [
    {
     "name": "stderr",
     "output_type": "stream",
     "text": [
      "Retrieving folder list\n"
     ]
    },
    {
     "name": "stdout",
     "output_type": "stream",
     "text": [
      "Processing file 1hjwTrKS5tJrt3bdbpabXUrQD627X5ihA dataset_cleaned.tar.gz\n",
      "Processing file 1h6vdF4RgyGQCcahT-8a-9PFwO2D5vVRW dataset_seg.tar.gz\n",
      "Building directory structure completed\n"
     ]
    },
    {
     "name": "stderr",
     "output_type": "stream",
     "text": [
      "Retrieving folder list completed\n",
      "Building directory structure\n",
      "Downloading...\n",
      "From (uriginal): https://drive.google.com/uc?id=1hjwTrKS5tJrt3bdbpabXUrQD627X5ihA\n",
      "From (redirected): https://drive.google.com/uc?id=1hjwTrKS5tJrt3bdbpabXUrQD627X5ihA&confirm=t&uuid=f3c28c72-bd72-4182-be28-80bcb85c4995\n",
      "To: /media/my_ftp/BasesDeDatos_Torax_RX_CT/COVID19_CT/CLEANED_CNCB/HDU_HKBU_COVID_CT_Dataset/dataset_cleaned.tar.gz\n",
      " 25%|██▍       | 12.7G/51.7G [1:00:11<3:04:19, 3.53MB/s]\n"
     ]
    },
    {
     "name": "stdout",
     "output_type": "stream",
     "text": [
      "Access denied with the following error:\n"
     ]
    },
    {
     "name": "stderr",
     "output_type": "stream",
     "text": [
      "\n",
      " \tToo many users have viewed or downloaded this file recently. Please\n",
      "\ttry accessing the file again later. If the file you are trying to\n",
      "\taccess is particularly large or is shared with many people, it may\n",
      "\ttake up to 24 hours to be able to view or download the file. If you\n",
      "\tstill can't access a file after 24 hours, contact your domain\n",
      "\tadministrator. \n",
      "\n",
      "You may still be able to access the file from the browser:\n",
      "\n",
      "\t https://drive.google.com/uc?id=1h6vdF4RgyGQCcahT-8a-9PFwO2D5vVRW \n",
      "\n",
      "Download ended unsuccessfully\n"
     ]
    }
   ],
   "source": [
    "url = \"https://drive.google.com/drive/folders/1qOWNdi5eRpuJClPimwIHvCV8z2RN7HQB\"\n",
    "output = \"/media/my_ftp/BasesDeDatos_Torax_RX_CT/COVID19_CT/CLEANED_CNCB/\"\n",
    "gdown.download_folder(url, output=output, quiet=False, use_cookies=False)\n"
   ]
  },
  {
   "cell_type": "code",
   "execution_count": null,
   "metadata": {},
   "outputs": [],
   "source": []
  }
 ],
 "metadata": {
  "kernelspec": {
   "display_name": "tfm-muit-venv",
   "language": "python",
   "name": "python3"
  },
  "language_info": {
   "codemirror_mode": {
    "name": "ipython",
    "version": 3
   },
   "file_extension": ".py",
   "mimetype": "text/x-python",
   "name": "python",
   "nbconvert_exporter": "python",
   "pygments_lexer": "ipython3",
   "version": "3.10.12"
  }
 },
 "nbformat": 4,
 "nbformat_minor": 2
}
