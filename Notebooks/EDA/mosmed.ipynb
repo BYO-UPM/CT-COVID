{
 "cells": [
  {
   "cell_type": "code",
   "execution_count": 1,
   "metadata": {},
   "outputs": [],
   "source": [
    "import sys ,os, json\n",
    "p = os.path.abspath('../..')\n",
    "if p not in sys.path:\n",
    "    sys.path.append(p)\n",
    "import configparser\n",
    "import pydicom\n",
    "import pandas as pd\n",
    "import numpy as np\n",
    "import matplotlib.pyplot as plt\n",
    "import cv2\n",
    "import nibabel as nib\n",
    "\n",
    "from importlib import reload\n",
    "import utils as Utils\n",
    "reload(Utils)\n",
    "\n",
    "config = configparser.ConfigParser()\n",
    "config.read(\"../../config.ini\")\n",
    "\n",
    "pd.set_option('display.max_colwidth', None)"
   ]
  },
  {
   "cell_type": "code",
   "execution_count": 2,
   "metadata": {},
   "outputs": [
    {
     "name": "stdout",
     "output_type": "stream",
     "text": [
      "/media/my_ftp/BasesDeDatos_Torax_RX_CT/COVID19_CT/MOSMED\n"
     ]
    }
   ],
   "source": [
    "MOSMED_PATH = config[\"PATHS\"][\"MOSMED_PATH\"]\n",
    "print(MOSMED_PATH)"
   ]
  },
  {
   "cell_type": "code",
   "execution_count": 3,
   "metadata": {},
   "outputs": [
    {
     "name": "stdout",
     "output_type": "stream",
     "text": [
      "(1110, 4)\n",
      "1110\n"
     ]
    }
   ],
   "source": [
    "meta_df = pd.read_excel(os.path.join(MOSMED_PATH, \"COVID19_1110/dataset_registry.xlsx\"))\n",
    "meta_df.head()\n",
    "print(meta_df.shape)\n",
    "print(meta_df[\"study_id\"].nunique())"
   ]
  },
  {
   "cell_type": "code",
   "execution_count": 7,
   "metadata": {},
   "outputs": [],
   "source": [
    "def read_mosmed_folder_structure(mosmed_path):\n",
    "    meta_df = pd.read_excel(os.path.join(mosmed_path, \"COVID19_1110/dataset_registry.xlsx\"))\n",
    "    meta_df[\"study_file\"] = meta_df[\"study_file\"].apply(lambda x: mosmed_path  + \"/COVID19_1110\" +x) \n",
    "    meta_df[\"mask_file\"] = meta_df[\"mask_file\"].apply(lambda x: mosmed_path + \"/COVID19_1110\"+ x if pd.notna(x) else \"\")\n",
    "    return meta_df"
   ]
  },
  {
   "cell_type": "code",
   "execution_count": 8,
   "metadata": {},
   "outputs": [],
   "source": [
    "mosmed_df = read_mosmed_folder_structure(MOSMED_PATH)"
   ]
  },
  {
   "cell_type": "code",
   "execution_count": 15,
   "metadata": {},
   "outputs": [
    {
     "data": {
      "text/html": [
       "<div>\n",
       "<style scoped>\n",
       "    .dataframe tbody tr th:only-of-type {\n",
       "        vertical-align: middle;\n",
       "    }\n",
       "\n",
       "    .dataframe tbody tr th {\n",
       "        vertical-align: top;\n",
       "    }\n",
       "\n",
       "    .dataframe thead th {\n",
       "        text-align: right;\n",
       "    }\n",
       "</style>\n",
       "<table border=\"1\" class=\"dataframe\">\n",
       "  <thead>\n",
       "    <tr style=\"text-align: right;\">\n",
       "      <th></th>\n",
       "      <th>study_id</th>\n",
       "      <th>category</th>\n",
       "      <th>study_file</th>\n",
       "      <th>mask_file</th>\n",
       "    </tr>\n",
       "  </thead>\n",
       "  <tbody>\n",
       "    <tr>\n",
       "      <th>0</th>\n",
       "      <td>1</td>\n",
       "      <td>CT-0</td>\n",
       "      <td>/studies/CT-0/study_0001.nii.gz</td>\n",
       "      <td>None</td>\n",
       "    </tr>\n",
       "    <tr>\n",
       "      <th>1</th>\n",
       "      <td>2</td>\n",
       "      <td>CT-0</td>\n",
       "      <td>/studies/CT-0/study_0002.nii.gz</td>\n",
       "      <td>None</td>\n",
       "    </tr>\n",
       "    <tr>\n",
       "      <th>2</th>\n",
       "      <td>3</td>\n",
       "      <td>CT-0</td>\n",
       "      <td>/studies/CT-0/study_0003.nii.gz</td>\n",
       "      <td>None</td>\n",
       "    </tr>\n",
       "    <tr>\n",
       "      <th>3</th>\n",
       "      <td>4</td>\n",
       "      <td>CT-0</td>\n",
       "      <td>/studies/CT-0/study_0004.nii.gz</td>\n",
       "      <td>None</td>\n",
       "    </tr>\n",
       "    <tr>\n",
       "      <th>4</th>\n",
       "      <td>5</td>\n",
       "      <td>CT-0</td>\n",
       "      <td>/studies/CT-0/study_0005.nii.gz</td>\n",
       "      <td>None</td>\n",
       "    </tr>\n",
       "  </tbody>\n",
       "</table>\n",
       "</div>"
      ],
      "text/plain": [
       "   study_id category                       study_file mask_file\n",
       "0         1     CT-0  /studies/CT-0/study_0001.nii.gz      None\n",
       "1         2     CT-0  /studies/CT-0/study_0002.nii.gz      None\n",
       "2         3     CT-0  /studies/CT-0/study_0003.nii.gz      None\n",
       "3         4     CT-0  /studies/CT-0/study_0004.nii.gz      None\n",
       "4         5     CT-0  /studies/CT-0/study_0005.nii.gz      None"
      ]
     },
     "execution_count": 15,
     "metadata": {},
     "output_type": "execute_result"
    }
   ],
   "source": [
    "mosmed_df.head()"
   ]
  },
  {
   "cell_type": "code",
   "execution_count": 13,
   "metadata": {},
   "outputs": [
    {
     "data": {
      "text/html": [
       "<div>\n",
       "<style scoped>\n",
       "    .dataframe tbody tr th:only-of-type {\n",
       "        vertical-align: middle;\n",
       "    }\n",
       "\n",
       "    .dataframe tbody tr th {\n",
       "        vertical-align: top;\n",
       "    }\n",
       "\n",
       "    .dataframe thead th {\n",
       "        text-align: right;\n",
       "    }\n",
       "</style>\n",
       "<table border=\"1\" class=\"dataframe\">\n",
       "  <thead>\n",
       "    <tr style=\"text-align: right;\">\n",
       "      <th></th>\n",
       "      <th>study_id</th>\n",
       "      <th>category</th>\n",
       "      <th>study_file</th>\n",
       "      <th>mask_file</th>\n",
       "    </tr>\n",
       "  </thead>\n",
       "  <tbody>\n",
       "    <tr>\n",
       "      <th>254</th>\n",
       "      <td>255</td>\n",
       "      <td>CT-1</td>\n",
       "      <td>/media/my_ftp/BasesDeDatos_Torax_RX_CT/COVID19_CT/MOSMED/COVID19_1110/studies/CT-1/study_0255.nii.gz</td>\n",
       "      <td>/media/my_ftp/BasesDeDatos_Torax_RX_CT/COVID19_CT/MOSMED/COVID19_1110/masks/study_0255_mask.nii.gz</td>\n",
       "    </tr>\n",
       "    <tr>\n",
       "      <th>255</th>\n",
       "      <td>256</td>\n",
       "      <td>CT-1</td>\n",
       "      <td>/media/my_ftp/BasesDeDatos_Torax_RX_CT/COVID19_CT/MOSMED/COVID19_1110/studies/CT-1/study_0256.nii.gz</td>\n",
       "      <td>/media/my_ftp/BasesDeDatos_Torax_RX_CT/COVID19_CT/MOSMED/COVID19_1110/masks/study_0256_mask.nii.gz</td>\n",
       "    </tr>\n",
       "    <tr>\n",
       "      <th>256</th>\n",
       "      <td>257</td>\n",
       "      <td>CT-1</td>\n",
       "      <td>/media/my_ftp/BasesDeDatos_Torax_RX_CT/COVID19_CT/MOSMED/COVID19_1110/studies/CT-1/study_0257.nii.gz</td>\n",
       "      <td>/media/my_ftp/BasesDeDatos_Torax_RX_CT/COVID19_CT/MOSMED/COVID19_1110/masks/study_0257_mask.nii.gz</td>\n",
       "    </tr>\n",
       "    <tr>\n",
       "      <th>257</th>\n",
       "      <td>258</td>\n",
       "      <td>CT-1</td>\n",
       "      <td>/media/my_ftp/BasesDeDatos_Torax_RX_CT/COVID19_CT/MOSMED/COVID19_1110/studies/CT-1/study_0258.nii.gz</td>\n",
       "      <td>/media/my_ftp/BasesDeDatos_Torax_RX_CT/COVID19_CT/MOSMED/COVID19_1110/masks/study_0258_mask.nii.gz</td>\n",
       "    </tr>\n",
       "    <tr>\n",
       "      <th>258</th>\n",
       "      <td>259</td>\n",
       "      <td>CT-1</td>\n",
       "      <td>/media/my_ftp/BasesDeDatos_Torax_RX_CT/COVID19_CT/MOSMED/COVID19_1110/studies/CT-1/study_0259.nii.gz</td>\n",
       "      <td>/media/my_ftp/BasesDeDatos_Torax_RX_CT/COVID19_CT/MOSMED/COVID19_1110/masks/study_0259_mask.nii.gz</td>\n",
       "    </tr>\n",
       "  </tbody>\n",
       "</table>\n",
       "</div>"
      ],
      "text/plain": [
       "     study_id category  \\\n",
       "254       255     CT-1   \n",
       "255       256     CT-1   \n",
       "256       257     CT-1   \n",
       "257       258     CT-1   \n",
       "258       259     CT-1   \n",
       "\n",
       "                                                                                               study_file  \\\n",
       "254  /media/my_ftp/BasesDeDatos_Torax_RX_CT/COVID19_CT/MOSMED/COVID19_1110/studies/CT-1/study_0255.nii.gz   \n",
       "255  /media/my_ftp/BasesDeDatos_Torax_RX_CT/COVID19_CT/MOSMED/COVID19_1110/studies/CT-1/study_0256.nii.gz   \n",
       "256  /media/my_ftp/BasesDeDatos_Torax_RX_CT/COVID19_CT/MOSMED/COVID19_1110/studies/CT-1/study_0257.nii.gz   \n",
       "257  /media/my_ftp/BasesDeDatos_Torax_RX_CT/COVID19_CT/MOSMED/COVID19_1110/studies/CT-1/study_0258.nii.gz   \n",
       "258  /media/my_ftp/BasesDeDatos_Torax_RX_CT/COVID19_CT/MOSMED/COVID19_1110/studies/CT-1/study_0259.nii.gz   \n",
       "\n",
       "                                                                                              mask_file  \n",
       "254  /media/my_ftp/BasesDeDatos_Torax_RX_CT/COVID19_CT/MOSMED/COVID19_1110/masks/study_0255_mask.nii.gz  \n",
       "255  /media/my_ftp/BasesDeDatos_Torax_RX_CT/COVID19_CT/MOSMED/COVID19_1110/masks/study_0256_mask.nii.gz  \n",
       "256  /media/my_ftp/BasesDeDatos_Torax_RX_CT/COVID19_CT/MOSMED/COVID19_1110/masks/study_0257_mask.nii.gz  \n",
       "257  /media/my_ftp/BasesDeDatos_Torax_RX_CT/COVID19_CT/MOSMED/COVID19_1110/masks/study_0258_mask.nii.gz  \n",
       "258  /media/my_ftp/BasesDeDatos_Torax_RX_CT/COVID19_CT/MOSMED/COVID19_1110/masks/study_0259_mask.nii.gz  "
      ]
     },
     "execution_count": 13,
     "metadata": {},
     "output_type": "execute_result"
    }
   ],
   "source": [
    "# filter df where mask_file is not empty\n",
    "mosmed_df = mosmed_df[mosmed_df[\"mask_file\"] != None]\n",
    "mosmed_df = mosmed_df[mosmed_df[\"mask_file\"] != \"\"]\n",
    "mosmed_df.head()"
   ]
  },
  {
   "cell_type": "code",
   "execution_count": 18,
   "metadata": {},
   "outputs": [
    {
     "name": "stdout",
     "output_type": "stream",
     "text": [
      "/media/my_ftp/BasesDeDatos_Torax_RX_CT/COVID19_CT/MOSMED/COVID19_1110/masks/study_0255_mask.nii.gz\n"
     ]
    },
    {
     "data": {
      "text/html": [
       "<div>\n",
       "<style scoped>\n",
       "    .dataframe tbody tr th:only-of-type {\n",
       "        vertical-align: middle;\n",
       "    }\n",
       "\n",
       "    .dataframe tbody tr th {\n",
       "        vertical-align: top;\n",
       "    }\n",
       "\n",
       "    .dataframe thead th {\n",
       "        text-align: right;\n",
       "    }\n",
       "</style>\n",
       "<table border=\"1\" class=\"dataframe\">\n",
       "  <thead>\n",
       "    <tr style=\"text-align: right;\">\n",
       "      <th></th>\n",
       "      <th>values</th>\n",
       "      <th>count</th>\n",
       "    </tr>\n",
       "  </thead>\n",
       "  <tbody>\n",
       "    <tr>\n",
       "      <th>0</th>\n",
       "      <td>0.0</td>\n",
       "      <td>9915946</td>\n",
       "    </tr>\n",
       "    <tr>\n",
       "      <th>1</th>\n",
       "      <td>1.0</td>\n",
       "      <td>45526</td>\n",
       "    </tr>\n",
       "  </tbody>\n",
       "</table>\n",
       "</div>"
      ],
      "text/plain": [
       "   values    count\n",
       "0     0.0  9915946\n",
       "1     1.0    45526"
      ]
     },
     "execution_count": 18,
     "metadata": {},
     "output_type": "execute_result"
    }
   ],
   "source": [
    "mask_file = mosmed_df[\"mask_file\"].iloc[0]\n",
    "print(mask_file)\n",
    "mask = nib.load(mask_file).get_fdata()\n",
    "mask.shape\n",
    "mask = mask.flatten()\n",
    "Utils.get_hist_as_df(mask)\n"
   ]
  },
  {
   "cell_type": "code",
   "execution_count": null,
   "metadata": {},
   "outputs": [],
   "source": []
  }
 ],
 "metadata": {
  "kernelspec": {
   "display_name": "tfm-muit-venv",
   "language": "python",
   "name": "python3"
  },
  "language_info": {
   "codemirror_mode": {
    "name": "ipython",
    "version": 3
   },
   "file_extension": ".py",
   "mimetype": "text/x-python",
   "name": "python",
   "nbconvert_exporter": "python",
   "pygments_lexer": "ipython3",
   "version": "3.10.12"
  }
 },
 "nbformat": 4,
 "nbformat_minor": 2
}
