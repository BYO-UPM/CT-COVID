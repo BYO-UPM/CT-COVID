{
 "cells": [
  {
   "cell_type": "code",
   "execution_count": 2,
   "metadata": {},
   "outputs": [
    {
     "data": {
      "text/plain": [
       "['../../config.ini']"
      ]
     },
     "execution_count": 2,
     "metadata": {},
     "output_type": "execute_result"
    }
   ],
   "source": [
    "import sys ,os\n",
    "p = os.path.abspath('../..')\n",
    "if p not in sys.path:\n",
    "    sys.path.append(p)\n",
    "\n",
    "import configparser\n",
    "import pandas as pd\n",
    "import numpy as np\n",
    "import nibabel as nib\n",
    "import matplotlib.pyplot as plt\n",
    "from importlib import reload\n",
    "import cv2\n",
    "\n",
    "import utils as Utils\n",
    "reload(Utils)\n",
    "config = configparser.ConfigParser()\n",
    "config.read(\"../../config.ini\")"
   ]
  },
  {
   "cell_type": "code",
   "execution_count": 3,
   "metadata": {},
   "outputs": [
    {
     "name": "stdout",
     "output_type": "stream",
     "text": [
      "Classification metadata shape: (443414, 18)\n"
     ]
    },
    {
     "data": {
      "text/html": [
       "<div>\n",
       "<style scoped>\n",
       "    .dataframe tbody tr th:only-of-type {\n",
       "        vertical-align: middle;\n",
       "    }\n",
       "\n",
       "    .dataframe tbody tr th {\n",
       "        vertical-align: top;\n",
       "    }\n",
       "\n",
       "    .dataframe thead th {\n",
       "        text-align: right;\n",
       "    }\n",
       "</style>\n",
       "<table border=\"1\" class=\"dataframe\">\n",
       "  <thead>\n",
       "    <tr style=\"text-align: right;\">\n",
       "      <th></th>\n",
       "      <th>label</th>\n",
       "      <th>patient_index</th>\n",
       "      <th>scan_index</th>\n",
       "      <th>slice_index</th>\n",
       "      <th>n_slices</th>\n",
       "      <th>ct_slice_path</th>\n",
       "      <th>lung_mask_path</th>\n",
       "      <th>dataset</th>\n",
       "      <th>has_infection</th>\n",
       "      <th>imgpath</th>\n",
       "      <th>height</th>\n",
       "      <th>width</th>\n",
       "      <th>split</th>\n",
       "      <th>split_0</th>\n",
       "      <th>split_1</th>\n",
       "      <th>split_2</th>\n",
       "      <th>split_3</th>\n",
       "      <th>split_4</th>\n",
       "    </tr>\n",
       "  </thead>\n",
       "  <tbody>\n",
       "    <tr>\n",
       "      <th>0</th>\n",
       "      <td>normal</td>\n",
       "      <td>2118</td>\n",
       "      <td>573</td>\n",
       "      <td>79</td>\n",
       "      <td>89</td>\n",
       "      <td>/media/my_ftp/BasesDeDatos_Torax_RX_CT/COVID19...</td>\n",
       "      <td>/media/my_ftp/BasesDeDatos_Torax_RX_CT/COVID19...</td>\n",
       "      <td>CNCB</td>\n",
       "      <td>False</td>\n",
       "      <td>NaN</td>\n",
       "      <td>512</td>\n",
       "      <td>512</td>\n",
       "      <td>train</td>\n",
       "      <td>train</td>\n",
       "      <td>test</td>\n",
       "      <td>train</td>\n",
       "      <td>train</td>\n",
       "      <td>train</td>\n",
       "    </tr>\n",
       "    <tr>\n",
       "      <th>1</th>\n",
       "      <td>normal</td>\n",
       "      <td>2118</td>\n",
       "      <td>573</td>\n",
       "      <td>16</td>\n",
       "      <td>89</td>\n",
       "      <td>/media/my_ftp/BasesDeDatos_Torax_RX_CT/COVID19...</td>\n",
       "      <td>/media/my_ftp/BasesDeDatos_Torax_RX_CT/COVID19...</td>\n",
       "      <td>CNCB</td>\n",
       "      <td>False</td>\n",
       "      <td>NaN</td>\n",
       "      <td>512</td>\n",
       "      <td>512</td>\n",
       "      <td>train</td>\n",
       "      <td>train</td>\n",
       "      <td>test</td>\n",
       "      <td>train</td>\n",
       "      <td>train</td>\n",
       "      <td>train</td>\n",
       "    </tr>\n",
       "    <tr>\n",
       "      <th>2</th>\n",
       "      <td>normal</td>\n",
       "      <td>2118</td>\n",
       "      <td>573</td>\n",
       "      <td>25</td>\n",
       "      <td>89</td>\n",
       "      <td>/media/my_ftp/BasesDeDatos_Torax_RX_CT/COVID19...</td>\n",
       "      <td>/media/my_ftp/BasesDeDatos_Torax_RX_CT/COVID19...</td>\n",
       "      <td>CNCB</td>\n",
       "      <td>False</td>\n",
       "      <td>NaN</td>\n",
       "      <td>512</td>\n",
       "      <td>512</td>\n",
       "      <td>train</td>\n",
       "      <td>train</td>\n",
       "      <td>test</td>\n",
       "      <td>train</td>\n",
       "      <td>train</td>\n",
       "      <td>train</td>\n",
       "    </tr>\n",
       "    <tr>\n",
       "      <th>3</th>\n",
       "      <td>normal</td>\n",
       "      <td>2118</td>\n",
       "      <td>573</td>\n",
       "      <td>42</td>\n",
       "      <td>89</td>\n",
       "      <td>/media/my_ftp/BasesDeDatos_Torax_RX_CT/COVID19...</td>\n",
       "      <td>/media/my_ftp/BasesDeDatos_Torax_RX_CT/COVID19...</td>\n",
       "      <td>CNCB</td>\n",
       "      <td>False</td>\n",
       "      <td>NaN</td>\n",
       "      <td>512</td>\n",
       "      <td>512</td>\n",
       "      <td>train</td>\n",
       "      <td>train</td>\n",
       "      <td>test</td>\n",
       "      <td>train</td>\n",
       "      <td>train</td>\n",
       "      <td>train</td>\n",
       "    </tr>\n",
       "    <tr>\n",
       "      <th>4</th>\n",
       "      <td>normal</td>\n",
       "      <td>2118</td>\n",
       "      <td>573</td>\n",
       "      <td>76</td>\n",
       "      <td>89</td>\n",
       "      <td>/media/my_ftp/BasesDeDatos_Torax_RX_CT/COVID19...</td>\n",
       "      <td>/media/my_ftp/BasesDeDatos_Torax_RX_CT/COVID19...</td>\n",
       "      <td>CNCB</td>\n",
       "      <td>False</td>\n",
       "      <td>NaN</td>\n",
       "      <td>512</td>\n",
       "      <td>512</td>\n",
       "      <td>train</td>\n",
       "      <td>train</td>\n",
       "      <td>test</td>\n",
       "      <td>train</td>\n",
       "      <td>train</td>\n",
       "      <td>train</td>\n",
       "    </tr>\n",
       "  </tbody>\n",
       "</table>\n",
       "</div>"
      ],
      "text/plain": [
       "    label  patient_index  scan_index  slice_index  n_slices  \\\n",
       "0  normal           2118         573           79        89   \n",
       "1  normal           2118         573           16        89   \n",
       "2  normal           2118         573           25        89   \n",
       "3  normal           2118         573           42        89   \n",
       "4  normal           2118         573           76        89   \n",
       "\n",
       "                                       ct_slice_path  \\\n",
       "0  /media/my_ftp/BasesDeDatos_Torax_RX_CT/COVID19...   \n",
       "1  /media/my_ftp/BasesDeDatos_Torax_RX_CT/COVID19...   \n",
       "2  /media/my_ftp/BasesDeDatos_Torax_RX_CT/COVID19...   \n",
       "3  /media/my_ftp/BasesDeDatos_Torax_RX_CT/COVID19...   \n",
       "4  /media/my_ftp/BasesDeDatos_Torax_RX_CT/COVID19...   \n",
       "\n",
       "                                      lung_mask_path dataset  has_infection  \\\n",
       "0  /media/my_ftp/BasesDeDatos_Torax_RX_CT/COVID19...    CNCB          False   \n",
       "1  /media/my_ftp/BasesDeDatos_Torax_RX_CT/COVID19...    CNCB          False   \n",
       "2  /media/my_ftp/BasesDeDatos_Torax_RX_CT/COVID19...    CNCB          False   \n",
       "3  /media/my_ftp/BasesDeDatos_Torax_RX_CT/COVID19...    CNCB          False   \n",
       "4  /media/my_ftp/BasesDeDatos_Torax_RX_CT/COVID19...    CNCB          False   \n",
       "\n",
       "  imgpath  height  width  split split_0 split_1 split_2 split_3 split_4  \n",
       "0     NaN     512    512  train   train    test   train   train   train  \n",
       "1     NaN     512    512  train   train    test   train   train   train  \n",
       "2     NaN     512    512  train   train    test   train   train   train  \n",
       "3     NaN     512    512  train   train    test   train   train   train  \n",
       "4     NaN     512    512  train   train    test   train   train   train  "
      ]
     },
     "execution_count": 3,
     "metadata": {},
     "output_type": "execute_result"
    }
   ],
   "source": [
    "PROCESSED_DATA_PATH = config[\"PATHS\"][\"PROCESSED_DATA_PATH\"]\n",
    "IMAGES_PATH = os.path.join(PROCESSED_DATA_PATH,\"segmentation\", \"rgb_images\")\n",
    "CLASSIFICATION_METADATA_PATH = os.path.join(PROCESSED_DATA_PATH, \"classification\",\"classification_metadata.pkl\") # Read from dataset after classification\n",
    "\n",
    "# Load metadata\n",
    "classification_meta_df = pd.read_pickle(CLASSIFICATION_METADATA_PATH)\n",
    "print(f\"Classification metadata shape: {classification_meta_df.shape}\")\n",
    "classification_meta_df.head()"
   ]
  },
  {
   "cell_type": "markdown",
   "metadata": {},
   "source": [
    "## Different datasets"
   ]
  },
  {
   "cell_type": "code",
   "execution_count": 4,
   "metadata": {},
   "outputs": [
    {
     "name": "stdout",
     "output_type": "stream",
     "text": [
      "dataset\n",
      "CNCB           397943\n",
      "COVID_CT_MD     45471\n",
      "dtype: int64\n"
     ]
    }
   ],
   "source": [
    "print(classification_meta_df.groupby(\"dataset\").size())"
   ]
  },
  {
   "cell_type": "markdown",
   "metadata": {},
   "source": [
    "## Nº Slices Histogram"
   ]
  },
  {
   "cell_type": "code",
   "execution_count": 12,
   "metadata": {},
   "outputs": [
    {
     "data": {
      "text/plain": [
       "(array([   93.,  1147.,  1891.,  2133.,  1391.,  1724.,  1773.,  3993.,\n",
       "         2924.,  4741.,  7086., 12584., 19836., 15508., 16085.,  8694.,\n",
       "         7686.,  4873.,  5707.,  4922.,  9237.,  6569.,  9435.,  6543.,\n",
       "         5691.,  5883.,  2885.,  2990.,  2736.,  4926.,  4957.,  6991.,\n",
       "         5124.,  8158.,  7585., 16811.,  8274.,  8027.,  6724.,  3977.,\n",
       "         6575.,  5440.,  3920.,  2673.,  2213.,  2960.,  2315.,  5077.,\n",
       "          555.,  2076.,  2499.,  2546.,  1794.,  5261.,  1854.,  2305.,\n",
       "         3411.,  1520.,  2424.,   673.,  3416.,  1851.,  1171.,   951.,\n",
       "         1932.,   733.,  1734.,  1514.,  2048.,  2597.,     0.,  1599.,\n",
       "         1349.,  1642.,  1940.,  2526.,  2838.,  2297.,  4072.,  2061.,\n",
       "         4477.,   302.,  2754.,  1854.,   625.,   316.,  1920.,   324.,\n",
       "          977.,   991.,   334.,   672.,  1362.,  1031.,     0.,   703.,\n",
       "          354.,   358.,  2174.,   365.,   738.,   373.,   375.,   379.,\n",
       "          768.,   387.,     0.,   395.,     0.,   801.,     0.,   409.,\n",
       "            0.,   417.,   420.,     0.,     0.,   856.,     0.,     0.,\n",
       "          441.,     0.,   448.,   903.,     0.,   916.,   463.,   466.,\n",
       "            0.,   473.,     0.,     0.,   968.,     0.,     0.,   494.,\n",
       "            0.,     0.,     0.,  1014.,   511.,     0.,     0.,   523.,\n",
       "          524.,     0.,     0.,     0.,     0.,     0.,     0.,     0.,\n",
       "          553.,     0.,     0.,     0.,     0.,     0.,   575.,     0.,\n",
       "            0.,     0.,     0.,  1188.,     0.,     0.,     0.,     0.,\n",
       "          609.,     0.,     0.,     0.,     0.,     0.,     0.,     0.,\n",
       "          640.,     0.,   646.,     0.,     0.,     0.,     0.,   664.,\n",
       "          667.,     0.,     0.,     0.,   680.,     0.,   690.]),\n",
       " array([ 13.        ,  16.54450262,  20.08900524,  23.63350785,\n",
       "         27.17801047,  30.72251309,  34.26701571,  37.81151832,\n",
       "         41.35602094,  44.90052356,  48.44502618,  51.9895288 ,\n",
       "         55.53403141,  59.07853403,  62.62303665,  66.16753927,\n",
       "         69.71204188,  73.2565445 ,  76.80104712,  80.34554974,\n",
       "         83.89005236,  87.43455497,  90.97905759,  94.52356021,\n",
       "         98.06806283, 101.61256545, 105.15706806, 108.70157068,\n",
       "        112.2460733 , 115.79057592, 119.33507853, 122.87958115,\n",
       "        126.42408377, 129.96858639, 133.51308901, 137.05759162,\n",
       "        140.60209424, 144.14659686, 147.69109948, 151.23560209,\n",
       "        154.78010471, 158.32460733, 161.86910995, 165.41361257,\n",
       "        168.95811518, 172.5026178 , 176.04712042, 179.59162304,\n",
       "        183.13612565, 186.68062827, 190.22513089, 193.76963351,\n",
       "        197.31413613, 200.85863874, 204.40314136, 207.94764398,\n",
       "        211.4921466 , 215.03664921, 218.58115183, 222.12565445,\n",
       "        225.67015707, 229.21465969, 232.7591623 , 236.30366492,\n",
       "        239.84816754, 243.39267016, 246.93717277, 250.48167539,\n",
       "        254.02617801, 257.57068063, 261.11518325, 264.65968586,\n",
       "        268.20418848, 271.7486911 , 275.29319372, 278.83769634,\n",
       "        282.38219895, 285.92670157, 289.47120419, 293.01570681,\n",
       "        296.56020942, 300.10471204, 303.64921466, 307.19371728,\n",
       "        310.7382199 , 314.28272251, 317.82722513, 321.37172775,\n",
       "        324.91623037, 328.46073298, 332.0052356 , 335.54973822,\n",
       "        339.09424084, 342.63874346, 346.18324607, 349.72774869,\n",
       "        353.27225131, 356.81675393, 360.36125654, 363.90575916,\n",
       "        367.45026178, 370.9947644 , 374.53926702, 378.08376963,\n",
       "        381.62827225, 385.17277487, 388.71727749, 392.2617801 ,\n",
       "        395.80628272, 399.35078534, 402.89528796, 406.43979058,\n",
       "        409.98429319, 413.52879581, 417.07329843, 420.61780105,\n",
       "        424.16230366, 427.70680628, 431.2513089 , 434.79581152,\n",
       "        438.34031414, 441.88481675, 445.42931937, 448.97382199,\n",
       "        452.51832461, 456.06282723, 459.60732984, 463.15183246,\n",
       "        466.69633508, 470.2408377 , 473.78534031, 477.32984293,\n",
       "        480.87434555, 484.41884817, 487.96335079, 491.5078534 ,\n",
       "        495.05235602, 498.59685864, 502.14136126, 505.68586387,\n",
       "        509.23036649, 512.77486911, 516.31937173, 519.86387435,\n",
       "        523.40837696, 526.95287958, 530.4973822 , 534.04188482,\n",
       "        537.58638743, 541.13089005, 544.67539267, 548.21989529,\n",
       "        551.76439791, 555.30890052, 558.85340314, 562.39790576,\n",
       "        565.94240838, 569.48691099, 573.03141361, 576.57591623,\n",
       "        580.12041885, 583.66492147, 587.20942408, 590.7539267 ,\n",
       "        594.29842932, 597.84293194, 601.38743455, 604.93193717,\n",
       "        608.47643979, 612.02094241, 615.56544503, 619.10994764,\n",
       "        622.65445026, 626.19895288, 629.7434555 , 633.28795812,\n",
       "        636.83246073, 640.37696335, 643.92146597, 647.46596859,\n",
       "        651.0104712 , 654.55497382, 658.09947644, 661.64397906,\n",
       "        665.18848168, 668.73298429, 672.27748691, 675.82198953,\n",
       "        679.36649215, 682.91099476, 686.45549738, 690.        ]),\n",
       " <BarContainer object of 191 artists>)"
      ]
     },
     "execution_count": 12,
     "metadata": {},
     "output_type": "execute_result"
    },
    {
     "data": {
      "image/png": "[encoded data removed]",
      "text/plain": [
       "<Figure size 1500x500 with 1 Axes>"
      ]
     },
     "metadata": {},
     "output_type": "display_data"
    }
   ],
   "source": [
    "# Plot two histograms for the n_slices per dataset\n",
    "fig = plt.figure(figsize=(15,5))\n",
    "plt.hist(classification_meta_df[classification_meta_df[\"dataset\"]==\"CNCB\"][\"n_slices\"], bins=\"auto\", alpha=0.5, label=\"CNCB\")\n"
   ]
  },
  {
   "cell_type": "code",
   "execution_count": 11,
   "metadata": {},
   "outputs": [
    {
     "data": {
      "text/plain": [
       "(array([ 108.,    0.,    0.,  112.,    0.,    0.,    0.,    0.,    0.,\n",
       "         236.,    0.,  362.,  244.,  246.,  248.,  125.,  252.,  127.,\n",
       "         640.,  258.,  520.,  393.,  930., 1206.,  675., 1088.,  959.,\n",
       "        1104.,  695.,  840.,  846., 1846., 1144., 2304., 1890., 1029.,\n",
       "        2368.,  894.,  900., 1208., 1064.,  765.,  616., 1395.,  624.,\n",
       "        1418., 1590., 1120.,  161.,  972.,  978., 1476.,  495.,  332.,\n",
       "         668.,  504.,  338., 1023.,  344.,  692.,  174.,    0.,  352.,\n",
       "         708.,    0.,    0.,    0.,  181.,    0.,  184.,  370.,  558.,\n",
       "         187.,    0.,    0.,  190.,    0.,    0.,    0.,  195.]),\n",
       " array([108.    , 109.0875, 110.175 , 111.2625, 112.35  , 113.4375,\n",
       "        114.525 , 115.6125, 116.7   , 117.7875, 118.875 , 119.9625,\n",
       "        121.05  , 122.1375, 123.225 , 124.3125, 125.4   , 126.4875,\n",
       "        127.575 , 128.6625, 129.75  , 130.8375, 131.925 , 133.0125,\n",
       "        134.1   , 135.1875, 136.275 , 137.3625, 138.45  , 139.5375,\n",
       "        140.625 , 141.7125, 142.8   , 143.8875, 144.975 , 146.0625,\n",
       "        147.15  , 148.2375, 149.325 , 150.4125, 151.5   , 152.5875,\n",
       "        153.675 , 154.7625, 155.85  , 156.9375, 158.025 , 159.1125,\n",
       "        160.2   , 161.2875, 162.375 , 163.4625, 164.55  , 165.6375,\n",
       "        166.725 , 167.8125, 168.9   , 169.9875, 171.075 , 172.1625,\n",
       "        173.25  , 174.3375, 175.425 , 176.5125, 177.6   , 178.6875,\n",
       "        179.775 , 180.8625, 181.95  , 183.0375, 184.125 , 185.2125,\n",
       "        186.3   , 187.3875, 188.475 , 189.5625, 190.65  , 191.7375,\n",
       "        192.825 , 193.9125, 195.    ]),\n",
       " <BarContainer object of 80 artists>)"
      ]
     },
     "execution_count": 11,
     "metadata": {},
     "output_type": "execute_result"
    },
    {
     "data": {
      "image/png": "[encoded data removed]",
      "text/plain": [
       "<Figure size 1500x500 with 1 Axes>"
      ]
     },
     "metadata": {},
     "output_type": "display_data"
    }
   ],
   "source": [
    "fig = plt.figure(figsize=(15,5))\n",
    "plt.hist(classification_meta_df[classification_meta_df[\"dataset\"]==\"COVID_CT_MD\"][\"n_slices\"], bins=\"auto\", alpha=0.5, label=\"COVID_CT_MD\")"
   ]
  },
  {
   "cell_type": "code",
   "execution_count": null,
   "metadata": {},
   "outputs": [],
   "source": []
  }
 ],
 "metadata": {
  "kernelspec": {
   "display_name": "tfm-muit-venv",
   "language": "python",
   "name": "python3"
  },
  "language_info": {
   "codemirror_mode": {
    "name": "ipython",
    "version": 3
   },
   "file_extension": ".py",
   "mimetype": "text/x-python",
   "name": "python",
   "nbconvert_exporter": "python",
   "pygments_lexer": "ipython3",
   "version": "3.10.12"
  }
 },
 "nbformat": 4,
 "nbformat_minor": 2
}
